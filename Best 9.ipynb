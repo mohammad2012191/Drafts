{
 "cells": [
  {
   "cell_type": "markdown",
   "id": "433cc9be",
   "metadata": {},
   "source": [
    "# AI4D Research Lab Tanzania Tourism Prediction\n",
    "# By Mohamed Eltayeb"
   ]
  },
  {
   "cell_type": "markdown",
   "id": "4d141a81",
   "metadata": {},
   "source": [
    "# Import libraries"
   ]
  },
  {
   "cell_type": "code",
   "execution_count": 1,
   "id": "91517d92",
   "metadata": {},
   "outputs": [],
   "source": [
    "import numpy as np\n",
    "import pandas as pd\n",
    "import matplotlib.pyplot as plt\n",
    "import seaborn as sns\n",
    "from scipy import stats\n",
    "\n",
    "from pandas.plotting import scatter_matrix\n",
    "from sklearn.preprocessing import  LabelEncoder, OneHotEncoder\n",
    "from lightgbm import LGBMClassifier\n",
    "from sklearn.model_selection import cross_val_score,StratifiedKFold\n",
    "from sklearn.metrics import log_loss\n",
    "from catboost import CatBoostClassifier\n",
    "from lightgbm import LGBMClassifier\n",
    "from xgboost import XGBClassifier\n",
    "from sklearn.ensemble import VotingClassifier, RandomForestClassifier\n",
    "\n",
    "import warnings\n",
    "warnings.simplefilter(action='ignore', category=FutureWarning)\n",
    "warnings.simplefilter(action='ignore', category=UserWarning)\n",
    "pd.options.mode.chained_assignment = None  # default='warn'\n",
    "#pd.set_option('display.float_format', lambda x: '%.3f' % x)\n",
    "plt.rcParams[\"figure.figsize\"] = (12, 8)\n",
    "pd.set_option('display.max_columns', None)"
   ]
  },
  {
   "cell_type": "code",
   "execution_count": 2,
   "id": "65672b87",
   "metadata": {},
   "outputs": [],
   "source": [
    "#Plot the LGBM Features Importances\n",
    "def plotImp(model, X , num = 30, fig_size = (60, 30)):\n",
    "    feature_imp = pd.DataFrame({'Value':model.feature_importances_,'Feature':X.columns})\n",
    "    plt.figure(figsize=fig_size)\n",
    "    sns.set(font_scale = 5)\n",
    "    sns.barplot(x=\"Value\", y=\"Feature\", data=feature_imp.sort_values(by=\"Value\", \n",
    "                                                        ascending=False)[0:num])\n",
    "    plt.title('LightGBM Features (avg over folds)')\n",
    "    plt.tight_layout()\n",
    "    plt.savefig('lgbm_importances-01.png')\n",
    "    plt.show()"
   ]
  },
  {
   "cell_type": "markdown",
   "id": "a49c11da",
   "metadata": {},
   "source": [
    "# Read the training and testing data\n"
   ]
  },
  {
   "cell_type": "code",
   "execution_count": 29,
   "id": "addd163a",
   "metadata": {},
   "outputs": [],
   "source": [
    "train_df = pd.read_csv(\"Train.csv\")\n",
    "test_df = pd.read_csv(\"Test.csv\")\n",
    "ID = test_df['Tour_ID']"
   ]
  },
  {
   "cell_type": "markdown",
   "id": "594fa42b",
   "metadata": {},
   "source": [
    "# Features:"
   ]
  },
  {
   "cell_type": "code",
   "execution_count": 4,
   "id": "71ee1b2c",
   "metadata": {},
   "outputs": [
    {
     "data": {
      "text/html": [
       "<div>\n",
       "<style scoped>\n",
       "    .dataframe tbody tr th:only-of-type {\n",
       "        vertical-align: middle;\n",
       "    }\n",
       "\n",
       "    .dataframe tbody tr th {\n",
       "        vertical-align: top;\n",
       "    }\n",
       "\n",
       "    .dataframe thead th {\n",
       "        text-align: right;\n",
       "    }\n",
       "</style>\n",
       "<table border=\"1\" class=\"dataframe\">\n",
       "  <thead>\n",
       "    <tr style=\"text-align: right;\">\n",
       "      <th></th>\n",
       "      <th>Column Name</th>\n",
       "      <th>Definition</th>\n",
       "    </tr>\n",
       "  </thead>\n",
       "  <tbody>\n",
       "    <tr>\n",
       "      <th>0</th>\n",
       "      <td>id</td>\n",
       "      <td>Unique identifier for each tourist</td>\n",
       "    </tr>\n",
       "    <tr>\n",
       "      <th>1</th>\n",
       "      <td>country</td>\n",
       "      <td>The country a tourist coming  from.</td>\n",
       "    </tr>\n",
       "    <tr>\n",
       "      <th>2</th>\n",
       "      <td>age_group</td>\n",
       "      <td>The age group of a tourist.</td>\n",
       "    </tr>\n",
       "    <tr>\n",
       "      <th>3</th>\n",
       "      <td>travel_with</td>\n",
       "      <td>The relation of people a tourist travel with t...</td>\n",
       "    </tr>\n",
       "    <tr>\n",
       "      <th>4</th>\n",
       "      <td>total_female</td>\n",
       "      <td>Total number of females</td>\n",
       "    </tr>\n",
       "    <tr>\n",
       "      <th>5</th>\n",
       "      <td>total_male</td>\n",
       "      <td>Total number of males</td>\n",
       "    </tr>\n",
       "    <tr>\n",
       "      <th>6</th>\n",
       "      <td>purpose</td>\n",
       "      <td>The purpose of visiting  Tanzania</td>\n",
       "    </tr>\n",
       "    <tr>\n",
       "      <th>7</th>\n",
       "      <td>main_activity</td>\n",
       "      <td>The main activity of tourism in Tanzania</td>\n",
       "    </tr>\n",
       "    <tr>\n",
       "      <th>8</th>\n",
       "      <td>infor_source</td>\n",
       "      <td>The source of information about tourism in Tan...</td>\n",
       "    </tr>\n",
       "    <tr>\n",
       "      <th>9</th>\n",
       "      <td>tour_arrangment</td>\n",
       "      <td>The arrangment of visiting Tanzania</td>\n",
       "    </tr>\n",
       "    <tr>\n",
       "      <th>10</th>\n",
       "      <td>package_transport_int</td>\n",
       "      <td>If the tour package include international tran...</td>\n",
       "    </tr>\n",
       "    <tr>\n",
       "      <th>11</th>\n",
       "      <td>package_accomodation</td>\n",
       "      <td>If the tour package include accommodation service</td>\n",
       "    </tr>\n",
       "    <tr>\n",
       "      <th>12</th>\n",
       "      <td>package_food</td>\n",
       "      <td>If the tour package include food service</td>\n",
       "    </tr>\n",
       "    <tr>\n",
       "      <th>13</th>\n",
       "      <td>package_transport_tz</td>\n",
       "      <td>If the tour package include transport service ...</td>\n",
       "    </tr>\n",
       "    <tr>\n",
       "      <th>14</th>\n",
       "      <td>package_sightseeing</td>\n",
       "      <td>If the tour package include sightseeing service</td>\n",
       "    </tr>\n",
       "    <tr>\n",
       "      <th>15</th>\n",
       "      <td>package_guided_tour</td>\n",
       "      <td>If the tour package include tour guide</td>\n",
       "    </tr>\n",
       "    <tr>\n",
       "      <th>16</th>\n",
       "      <td>package_insurance</td>\n",
       "      <td>if the tour package include insurance service</td>\n",
       "    </tr>\n",
       "    <tr>\n",
       "      <th>17</th>\n",
       "      <td>night_mainland</td>\n",
       "      <td>Number of nights a tourist spent in Tanzania m...</td>\n",
       "    </tr>\n",
       "    <tr>\n",
       "      <th>18</th>\n",
       "      <td>night_zanzibar</td>\n",
       "      <td>Number of nights a tourist spent in Zanzibar</td>\n",
       "    </tr>\n",
       "    <tr>\n",
       "      <th>19</th>\n",
       "      <td>first_trip_tz</td>\n",
       "      <td>If it was a first  trip to Tanzania</td>\n",
       "    </tr>\n",
       "    <tr>\n",
       "      <th>20</th>\n",
       "      <td>cost_category</td>\n",
       "      <td>The range of expenditures a tourist spends in ...</td>\n",
       "    </tr>\n",
       "  </tbody>\n",
       "</table>\n",
       "</div>"
      ],
      "text/plain": [
       "              Column Name                                         Definition\n",
       "0                      id                 Unique identifier for each tourist\n",
       "1                 country                The country a tourist coming  from.\n",
       "2               age_group                        The age group of a tourist.\n",
       "3             travel_with  The relation of people a tourist travel with t...\n",
       "4            total_female                            Total number of females\n",
       "5              total_male                              Total number of males\n",
       "6                 purpose                  The purpose of visiting  Tanzania\n",
       "7           main_activity           The main activity of tourism in Tanzania\n",
       "8            infor_source  The source of information about tourism in Tan...\n",
       "9         tour_arrangment                The arrangment of visiting Tanzania\n",
       "10  package_transport_int  If the tour package include international tran...\n",
       "11   package_accomodation  If the tour package include accommodation service\n",
       "12           package_food           If the tour package include food service\n",
       "13   package_transport_tz  If the tour package include transport service ...\n",
       "14    package_sightseeing    If the tour package include sightseeing service\n",
       "15    package_guided_tour             If the tour package include tour guide\n",
       "16      package_insurance      if the tour package include insurance service\n",
       "17         night_mainland  Number of nights a tourist spent in Tanzania m...\n",
       "18         night_zanzibar       Number of nights a tourist spent in Zanzibar\n",
       "19          first_trip_tz                If it was a first  trip to Tanzania\n",
       "20          cost_category  The range of expenditures a tourist spends in ..."
      ]
     },
     "execution_count": 4,
     "metadata": {},
     "output_type": "execute_result"
    }
   ],
   "source": [
    "Features_Definitions = pd.read_csv(\"VariableDefinitions.csv\")\n",
    "Features_Definitions"
   ]
  },
  {
   "cell_type": "markdown",
   "id": "3ecb284e",
   "metadata": {},
   "source": [
    "## Fix Some Typos in the Data"
   ]
  },
  {
   "cell_type": "code",
   "execution_count": 30,
   "id": "29af455e",
   "metadata": {},
   "outputs": [],
   "source": [
    "for dataset in (train_df,test_df):\n",
    "    for i in range(0,dataset.shape[0]):\n",
    "        if(dataset['main_activity'][i] == 'Widlife Tourism'):\n",
    "            dataset['main_activity'][i] = 'Wildlife Tourism'\n",
    "        if(dataset['country'][i] == 'SWIZERLAND'):\n",
    "            dataset['country'][i] = 'SWITZERLAND'\n",
    "        if(dataset['country'][i] == 'MORROCO'):\n",
    "            dataset['country'][i] = 'MOROCCO'\n",
    "        if(dataset['country'][i] == 'MALT'):\n",
    "            dataset['country'][i] = 'MALTA'\n",
    "        if(dataset['country'][i] == 'COSTARICA'):\n",
    "            dataset['country'][i] = 'COSTA RICA'"
   ]
  },
  {
   "cell_type": "markdown",
   "id": "53857f36",
   "metadata": {},
   "source": [
    "# Exploratory Data Analysis:"
   ]
  },
  {
   "cell_type": "code",
   "execution_count": null,
   "id": "dbfef88f",
   "metadata": {},
   "outputs": [],
   "source": [
    "train_df.shape"
   ]
  },
  {
   "cell_type": "code",
   "execution_count": null,
   "id": "5ab6a206",
   "metadata": {},
   "outputs": [],
   "source": [
    "test_df.shape"
   ]
  },
  {
   "cell_type": "code",
   "execution_count": null,
   "id": "4ead70d8",
   "metadata": {},
   "outputs": [],
   "source": [
    "train_df.info()"
   ]
  },
  {
   "cell_type": "code",
   "execution_count": null,
   "id": "39ee4bed",
   "metadata": {},
   "outputs": [],
   "source": [
    "test_df.info()"
   ]
  },
  {
   "cell_type": "code",
   "execution_count": null,
   "id": "97a57f21",
   "metadata": {},
   "outputs": [],
   "source": [
    "train_df.head()"
   ]
  },
  {
   "cell_type": "code",
   "execution_count": null,
   "id": "9d06d557",
   "metadata": {},
   "outputs": [],
   "source": [
    "test_df.head()"
   ]
  },
  {
   "cell_type": "code",
   "execution_count": null,
   "id": "635d4e82",
   "metadata": {},
   "outputs": [],
   "source": [
    "train_df.describe()"
   ]
  },
  {
   "cell_type": "code",
   "execution_count": null,
   "id": "babc9336",
   "metadata": {},
   "outputs": [],
   "source": [
    "test_df.describe()"
   ]
  },
  {
   "cell_type": "code",
   "execution_count": null,
   "id": "dfb6d278",
   "metadata": {},
   "outputs": [],
   "source": [
    "#The cardinality of each catgorical feature (Training)\n",
    "cat_cols = train_df.columns\n",
    "for col in cat_cols:\n",
    "    print(col, train_df[col].nunique())"
   ]
  },
  {
   "cell_type": "code",
   "execution_count": null,
   "id": "2070c323",
   "metadata": {},
   "outputs": [],
   "source": [
    "#The cardinality of each catgorical feature (Testing)\n",
    "cat_cols = test_df.columns\n",
    "for col in cat_cols:\n",
    "    print(col, test_df[col].nunique())"
   ]
  },
  {
   "cell_type": "markdown",
   "id": "6a0b8bfe",
   "metadata": {},
   "source": [
    "# Plots"
   ]
  },
  {
   "cell_type": "code",
   "execution_count": null,
   "id": "60f10fd2",
   "metadata": {},
   "outputs": [],
   "source": [
    "#Target Histogram\n",
    "train_df['cost_category'].hist()"
   ]
  },
  {
   "cell_type": "code",
   "execution_count": null,
   "id": "355afbdb",
   "metadata": {},
   "outputs": [],
   "source": [
    "#Numerical Features Histograms (Train)\n",
    "num_feats = list(train_df.select_dtypes(include=['int64', 'float64', 'int32']).columns)\n",
    "train_df[num_feats].hist(figsize=(20,15));"
   ]
  },
  {
   "cell_type": "code",
   "execution_count": null,
   "id": "b2bfcac9",
   "metadata": {},
   "outputs": [],
   "source": [
    "#Numerical Features Histograms (Test)\n",
    "num_feats = list(test_df.select_dtypes(include=['int64', 'float64', 'int32']).columns)\n",
    "test_df[num_feats].hist(figsize=(20,15));"
   ]
  },
  {
   "cell_type": "code",
   "execution_count": null,
   "id": "4795bf60",
   "metadata": {},
   "outputs": [],
   "source": [
    "#main_activity ----- cost_category \n",
    "sns.countplot( x='cost_category', data=train_df, hue=\"main_activity\", palette=\"Set1\");"
   ]
  },
  {
   "cell_type": "markdown",
   "id": "97dc08b0",
   "metadata": {},
   "source": [
    "##### Most of tourists tend to like Wildlife Tourism. \n",
    "##### We can see as well the Conference Tourism is famous amongst those who spend high costs while Hunting Tourism is for those who spend low costs."
   ]
  },
  {
   "cell_type": "code",
   "execution_count": null,
   "id": "ce5a12c3",
   "metadata": {},
   "outputs": [],
   "source": [
    "#Age_group ----- cost_category\n",
    "sns.countplot( x='cost_category', data=train_df, hue=\"age_group\", palette=\"Set1\");"
   ]
  },
  {
   "cell_type": "markdown",
   "id": "8a7628cb",
   "metadata": {},
   "source": [
    "##### Those who are aged less than 45 years tend to spend much less money than those who are above 45."
   ]
  },
  {
   "cell_type": "code",
   "execution_count": null,
   "id": "09b1bf03",
   "metadata": {},
   "outputs": [],
   "source": [
    "#Purpose ----- cost_category \n",
    "sns.countplot( x='cost_category', data=train_df, hue=\"purpose\", palette=\"Set1\");"
   ]
  },
  {
   "cell_type": "markdown",
   "id": "c1f02f62",
   "metadata": {},
   "source": [
    "##### Appearently, most of the tourists come to Tanzania to enjoy the holiday."
   ]
  },
  {
   "cell_type": "code",
   "execution_count": null,
   "id": "20163407",
   "metadata": {
    "scrolled": false
   },
   "outputs": [],
   "source": [
    "#travel_with ----- cost_category \n",
    "sns.countplot( x='cost_category', data=train_df, hue=\"travel_with\", palette=\"Set1\");"
   ]
  },
  {
   "cell_type": "markdown",
   "id": "6f691dab",
   "metadata": {},
   "source": [
    "##### Although most of touriests come alone, a significant amount of them come with their spouses."
   ]
  },
  {
   "cell_type": "code",
   "execution_count": null,
   "id": "98b6c4cd",
   "metadata": {},
   "outputs": [],
   "source": [
    "#tour_arrangement ----- cost_category \n",
    "sns.countplot( x='cost_category', data=train_df, hue=\"tour_arrangement\", palette=\"Set1\");"
   ]
  },
  {
   "cell_type": "markdown",
   "id": "94bd5057",
   "metadata": {},
   "source": [
    "##### The higher is the tourists spendings, the more likely they arranged the tour using a Package tour."
   ]
  },
  {
   "cell_type": "code",
   "execution_count": null,
   "id": "b7a8a463",
   "metadata": {
    "scrolled": false
   },
   "outputs": [],
   "source": [
    "#first_trip_tz ----- cost_category \n",
    "sns.countplot( x='cost_category', data=train_df, hue=\"first_trip_tz\", palette=\"Set1\");"
   ]
  },
  {
   "cell_type": "markdown",
   "id": "a4a3bf57",
   "metadata": {},
   "source": [
    "##### People who visit Tanzania for the first time are much more likely to spend more money than those who visited it before."
   ]
  },
  {
   "cell_type": "code",
   "execution_count": null,
   "id": "2f7d08ed",
   "metadata": {},
   "outputs": [],
   "source": [
    "#night_mainland ------- night_zanzibar\n",
    "attributes = [\"night_mainland\", \"night_zanzibar\"]\n",
    "sns.pairplot(train_df[attributes], diag_kind=\"kde\")\n",
    "plt.gcf().set_size_inches(15, 10)"
   ]
  },
  {
   "cell_type": "markdown",
   "id": "fda42015",
   "metadata": {},
   "source": [
    "##### There are quite a lot of cases where the tourists visit Mainland but not Zanzibar and vice versa."
   ]
  },
  {
   "cell_type": "code",
   "execution_count": null,
   "id": "628dfe84",
   "metadata": {},
   "outputs": [],
   "source": [
    "#country ----- cost_category \n",
    "countries = train_df[(train_df['country'] =='UNITED STATES OF AMERICA') | (train_df['country'] =='UNITED KINGDOM') | \n",
    "                     (train_df['country'] =='ITALY') | (train_df['country'] =='FRANCE') | \n",
    "                     (train_df['country'] =='GERMANY') | (train_df['country'] =='SOUTH AFRICA') | \n",
    "                     (train_df['country'] =='KENYA') | (train_df['country'] =='ZAMBIA')]\n",
    "\n",
    "sns.countplot( x='cost_category', data=countries, hue=\"country\", palette=\"Set1\");"
   ]
  },
  {
   "cell_type": "markdown",
   "id": "3a20c68e",
   "metadata": {},
   "source": [
    "##### USA tourists are obviously the ones who spend the most."
   ]
  },
  {
   "cell_type": "markdown",
   "id": "9f685bf6",
   "metadata": {},
   "source": [
    "# Feature Engineering"
   ]
  },
  {
   "cell_type": "markdown",
   "id": "397f4490",
   "metadata": {},
   "source": [
    "### We will firstly drop \"ID\" column"
   ]
  },
  {
   "cell_type": "code",
   "execution_count": 31,
   "id": "4bf95abe",
   "metadata": {},
   "outputs": [],
   "source": [
    "for dataset in (train_df,test_df):\n",
    "    dataset.drop('Tour_ID',axis=1,inplace=True)"
   ]
  },
  {
   "cell_type": "markdown",
   "id": "b2c8e402",
   "metadata": {},
   "source": [
    "### Total Number of Tourists"
   ]
  },
  {
   "cell_type": "code",
   "execution_count": 32,
   "id": "57c24510",
   "metadata": {},
   "outputs": [],
   "source": [
    "for dataset in (train_df,test_df):\n",
    "    dataset['TotalTourists'] = dataset['total_male'] + dataset['total_female']"
   ]
  },
  {
   "cell_type": "markdown",
   "id": "e5657636",
   "metadata": {},
   "source": [
    "### Tour with All the Packages"
   ]
  },
  {
   "cell_type": "code",
   "execution_count": 33,
   "id": "010ce3bd",
   "metadata": {},
   "outputs": [],
   "source": [
    "#Transform them to boolean\n",
    "features = ['package_transport_int','package_accomodation','package_food',\n",
    "            'package_transport_tz','package_sightseeing','package_guided_tour','package_insurance']\n",
    "for dataset in (train_df,test_df):\n",
    "    for feature in features:\n",
    "        dataset[feature] = dataset[feature] == 'Yes'\n",
    "\n",
    "#Add them together\n",
    "for dataset in (train_df,test_df):\n",
    "    dataset['IsFullTour'] = dataset['package_transport_int'] & dataset['package_accomodation'] & \\\n",
    "                           dataset['package_food'] & dataset['package_transport_tz'] & \\\n",
    "                           dataset['package_sightseeing'] & dataset['package_guided_tour'] & \\\n",
    "                           dataset['package_insurance']"
   ]
  },
  {
   "cell_type": "markdown",
   "id": "fa874be1",
   "metadata": {},
   "source": [
    "### Adding Continents"
   ]
  },
  {
   "cell_type": "code",
   "execution_count": 34,
   "id": "9dc477ed",
   "metadata": {
    "scrolled": true
   },
   "outputs": [],
   "source": [
    "import pycountry_convert as pc\n",
    "\n",
    "def country_to_continent(country_name):\n",
    "    country_alpha2 = pc.country_name_to_country_alpha2(country_name)\n",
    "    country_continent_code = pc.country_alpha2_to_continent_code(country_alpha2)\n",
    "    country_continent_name = pc.convert_continent_code_to_continent_name(country_continent_code)\n",
    "    return country_continent_name\n",
    "for dataset in (train_df,test_df):\n",
    "    Continents = []\n",
    "    for country in dataset.country.values:\n",
    "        if country == 'UNITED STATES OF AMERICA':\n",
    "            Continents.append(country_to_continent('United States of America'))\n",
    "        elif country == 'UAE':\n",
    "            Continents.append(country_to_continent('United Arab Emirates'))\n",
    "        elif country == 'KOREA':\n",
    "            Continents.append(country_to_continent('South Korea'))\n",
    "        elif country == 'DRC':\n",
    "            Continents.append(country_to_continent('Democratic Republic of the Congo'))\n",
    "        elif country == 'COMORO':\n",
    "            Continents.append(country_to_continent('Comoros'))\n",
    "        elif country == 'SAUD ARABIA':\n",
    "            Continents.append(country_to_continent('Saudi Arabia'))\n",
    "        elif country == 'PHILIPINES':\n",
    "            Continents.append(country_to_continent('Philippines'))\n",
    "        elif country == 'SCOTLAND':\n",
    "            Continents.append('Europe')\n",
    "        elif country == 'UKRAIN':\n",
    "            Continents.append('Europe')\n",
    "        elif country == 'SOMALI':\n",
    "            Continents.append('Africa')\n",
    "        elif country == 'ECUADO':\n",
    "            Continents.append(country_to_continent('Ecuador'))\n",
    "        elif country == 'MONECASQUE':\n",
    "            Continents.append(country_to_continent('Monaco'))\n",
    "        elif country == 'TRINIDAD TOBACCO':\n",
    "            Continents.append(country_to_continent('Trinidad and Tobago'))\n",
    "        elif country == 'BURGARIA':\n",
    "            Continents.append(country_to_continent('Bulgaria'))\n",
    "        elif country == 'BOSNIA':\n",
    "            Continents.append(country_to_continent('Bosnia and Herzegovina'))\n",
    "        elif country == 'DJIBOUT':\n",
    "            Continents.append(country_to_continent('Djibouti'))\n",
    "        else:\n",
    "            Continents.append(country_to_continent((country).title()))\n",
    "    dataset['Continent'] = Continents\n"
   ]
  },
  {
   "cell_type": "markdown",
   "id": "cd01d72f",
   "metadata": {},
   "source": [
    "### Aggregations"
   ]
  },
  {
   "cell_type": "code",
   "execution_count": 35,
   "id": "50bbd658",
   "metadata": {},
   "outputs": [],
   "source": [
    "for dataset in (train_df,test_df):\n",
    "    dataset['NightsSTR'] = dataset['night_mainland'].astype(str) + dataset['night_zanzibar'].astype(str)\n",
    "    dataset['TouristsSTR'] = dataset['total_male'].astype(str) + dataset['total_female'].astype(str)"
   ]
  },
  {
   "cell_type": "code",
   "execution_count": 36,
   "id": "2582243b",
   "metadata": {},
   "outputs": [],
   "source": [
    "train_df1 = train_df.copy()\n",
    "test_df1 = test_df.copy()\n",
    "for f in ['total_male','total_female']:\n",
    "    df1 = pd.concat([train_df1,test_df1])\n",
    "    median = df1[f].median()\n",
    "    for dataset in (train_df1,test_df1):\n",
    "        dataset[f] = dataset[f].fillna(median) \n",
    "\n",
    "CountryCosts = dict(train_df1.groupby('country')['cost_category'].agg(lambda x: x.value_counts().index[0]))\n",
    "ContinentsCosts = dict(train_df1.groupby('Continent')['cost_category'].agg(lambda x: x.value_counts().index[0]))\n",
    "AgesCosts = dict(train_df1.groupby('age_group')['cost_category'].agg(lambda x: x.value_counts().index[0]))\n",
    "PurposeCosts = dict(train_df1.groupby('purpose')['cost_category'].agg(lambda x: x.value_counts().index[0]))\n",
    "ActivityCosts = dict(train_df1.groupby('main_activity')['cost_category'].agg(lambda x: x.value_counts().index[0]))\n",
    "InfoCosts = dict(train_df1.groupby('info_source')['cost_category'].agg(lambda x: x.value_counts().index[0]))\n",
    "TouristsCosts = dict(train_df1.groupby('TotalTourists')['cost_category'].agg(lambda x: x.value_counts().index[0]))\n",
    "\n",
    "\n",
    "for dataset in (train_df,test_df):\n",
    "    dataset['CountryCosts'] = dataset['country'].map(CountryCosts)\n",
    "    dataset['ContinentsCosts'] = dataset['Continent'].map(ContinentsCosts)\n",
    "    dataset['AgesCosts'] = dataset['age_group'].map(AgesCosts)\n",
    "    dataset['PurposeCosts'] = dataset['purpose'].map(PurposeCosts)\n",
    "    dataset['ActivityCosts'] = dataset['main_activity'].map(ActivityCosts)\n",
    "    dataset['InfoCosts'] = dataset['info_source'].map(InfoCosts)"
   ]
  },
  {
   "cell_type": "code",
   "execution_count": 37,
   "id": "af5801c3",
   "metadata": {},
   "outputs": [],
   "source": [
    "TouristsCountry = dict(df1.groupby('country')['TotalTourists'].median())\n",
    "AgesCountry = dict(df1.groupby('country')['age_group'].agg(lambda x: x.value_counts().index[0]))\n",
    "PurposeCountry = dict(df1.groupby('country')['purpose'].agg(lambda x: x.value_counts().index[0]))\n",
    "ActivityCountry = dict(df1.groupby('country')['main_activity'].agg(lambda x: x.value_counts().index[0]))\n",
    "InfoCountry = dict(df1.groupby('country')['info_source'].agg(lambda x: x.value_counts().index[0]))\n",
    "\n",
    "\n",
    "\n",
    "TouristsContinent = dict(df1.groupby('Continent')['TotalTourists'].median())\n",
    "AgesContinent = dict(df1.groupby('Continent')['age_group'].agg(lambda x: x.value_counts().index[0]))\n",
    "PurposeContinent = dict(df1.groupby('Continent')['purpose'].agg(lambda x: x.value_counts().index[0]))\n",
    "ActivityContinent = dict(df1.groupby('Continent')['main_activity'].agg(lambda x: x.value_counts().index[0]))\n",
    "InfoContinent = dict(df1.groupby('Continent')['info_source'].agg(lambda x: x.value_counts().index[0]))\n",
    "\n",
    "\n",
    "for dataset in (train_df,test_df):\n",
    "    dataset['TouristsCountry'] = dataset['country'].map(TouristsCountry)\n",
    "    dataset['AgesCountry'] = dataset['country'].map(AgesCountry)\n",
    "    dataset['PurposeCountry'] = dataset['country'].map(PurposeCountry)\n",
    "    dataset['ActivityCountry'] = dataset['country'].map(ActivityCountry)\n",
    "    dataset['InfoCountry'] = dataset['country'].map(InfoCountry)\n",
    "\n",
    "    \n",
    "    dataset['TouristsContinent'] = dataset['Continent'].map(TouristsContinent)\n",
    "    dataset['AgesContinent'] = dataset['Continent'].map(AgesContinent)\n",
    "    dataset['PurposeContinent'] = dataset['Continent'].map(PurposeContinent)\n",
    "    dataset['ActivityContinent'] = dataset['Continent'].map(ActivityContinent)\n",
    "    dataset['InfoContinent'] = dataset['Continent'].map(InfoContinent)"
   ]
  },
  {
   "cell_type": "markdown",
   "id": "2ed49b93",
   "metadata": {},
   "source": [
    "## Interactions Features"
   ]
  },
  {
   "cell_type": "code",
   "execution_count": 38,
   "id": "c6759db3",
   "metadata": {},
   "outputs": [],
   "source": [
    "for dataset in (train_df,test_df):\n",
    "    dataset['Country_Tour'] = dataset['country'] + dataset['tour_arrangement']\n",
    "    dataset['Tourists_Ages'] = dataset['TotalTourists'].astype(str) + dataset['age_group']\n",
    "    dataset[\"TotalNights\"] = dataset[\"night_mainland\"] + dataset[\"night_zanzibar\"]\n",
    "    dataset['Night_Tourists'] = dataset['TotalNights'] * dataset['TotalTourists']\n",
    "    dataset['Males_Females'] = dataset['total_male'] * dataset['total_female']"
   ]
  },
  {
   "cell_type": "markdown",
   "id": "00e32860",
   "metadata": {},
   "source": [
    "## Longitude and Latitude of Countries"
   ]
  },
  {
   "cell_type": "code",
   "execution_count": 40,
   "id": "387dcd61",
   "metadata": {},
   "outputs": [],
   "source": [
    "latitude = { 'BOLIVIA':-17.0568696,'MYANMAR':17.1750495,\n",
    "             'EL SALVADOR':13.8000382,'HAITI':19.1399952,'GUINEA':10.7226226,'BELARUS':53.4250605,\n",
    "             'KAZAKHSTAN':47.2286086,'BENIN':9.5293472,'IRAQ':33.0955793,'CHAD':15.6134137, 'BAHRAIN': 26.1551249,'LITHUANIA': 55.3500003,'BURGARIA': 42.6073975,'DJIBOUT': 11.8145966,'AUSTRIA': 47.59397,\n",
    "             'GERMANY': 51.0834196,'GHANA': 8.0300284,'SENEGAL': 14.4750607,'JAPAN': 36.5748441,'SERBIA': 44.1534121,\n",
    "             'ICELAND': 64.9841821,'SPAIN': 39.3260685,'SEYCHELLES': -4.6574977,'DOMINICA': 19.0974031,'ANGOLA': -11.8775768,\n",
    "             'NEPAL': 28.1083929,'SRI LANKA': 7.5554942,'MONTENEGRO': 42.9868853,'IRELAND': 52.865196,'BRAZIL': -10.3333333,\n",
    "             'IRAN': 32.6475314,'GAMBIA': 13.470062,'NIGERIA': 9.6000359,'CAPE VERDE': 16.0000552,'UKRAIN': 49.4871968,\n",
    "             'LEBANON': 33.8750629,'VENEZUELA': 8.0018709,'INDIA': 22.3511148,'BANGLADESH': 24.4769288,'TUNISIA': 33.8439408,\n",
    "             'ETHIOPIA': 10.2116702,'NORWAY': 60.5000209,'CONGO': -2.9814344,'MOZAMBIQUE': -19.302233,'GEORGIA': 32.3293809,\n",
    "             'AFGHANISTAN': 33.7680065,'MONECASQUE': 43.73844905,'HUNGARY': 47.1817585,'ALGERIA': 28.0000272,'LIBERIA': 5.7499721,\n",
    "             'SINGAPORE': 1.357107,'PAPUA NEW GUINEA': -5.6816069,'UNITED KINGDOM': 54.7023545,'CHILE': -31.7613365,'ITALY': 42.6384261,\n",
    "             'MEXICO': 23.6585116,'SCOTLAND': 56.7861112,'UNITED ARAB EMIRATES': 24.0002488,'SWAZILAND': -26.5624806,'DRC': -2.9814344,\n",
    "             'ZIMBABWE': -18.4554963,'BARBADOS': 13.1500331,'ROMANIA': 45.9852129,'INDONESIA': -2.4833826,'TAIWAN': 23.9739374,\n",
    "             'KOREA': 36.638392,'URUGUAY': -32.8755548,'SWEDEN': 59.6749712,'TANZANIA': -6.5247123,'GREECE': 38.9953683,\n",
    "             'CZECH REPUBLIC': 49.8167003,'SUDAN': 14.5844444,'MALTA': 35.8885993,'MOROCCO': 31.1728205,'COMORO': -12.2045176,\n",
    "             'CAMEROON': 4.6125522,'TURKEY': 38.9597594,'FRANCE': 46.603354,'ISRAEL': 31.5313113,'CROATIA': 45.5643442,\n",
    "             'PHILIPINES': 12.7503486,'ECUADO': -1.3397668,'PORTUGAL': 40.0332629,'THAILAND': 14.8971921,'ESTONIA': 58.7523778,\n",
    "             'COSTA RICA': 10.2735633,'DENMARK': 55.670249,'UAE': 24.0002488,'MAURITIUS': -20.2759451,'CAMBODIA': 13.5066394,\n",
    "             'QATAR': 25.3336984,'UNITED STATES OF AMERICA': 39.7837304,'BOTSWANA': -23.1681782,'COLOMBIA': 4.099917,'NAMIBIA': -23.2335499,\n",
    "             'ARMENIA': 40.7696272,'CYPRUS': 34.9823018,'RUSSIA': 64.6863136,'YEMEN': 16.3471243,'LUXEMBOURG': 49.8158683,\n",
    "             'SOMALI': 8.3676771,'OMAN': 21.0000287,'MADAGASCAR': -18.9249604,'SLOVAKIA': 48.7411522,'LESOTHO': -29.6039267,\n",
    "             'BULGARIA': 42.6073975,'ARGENTINA': -34.9964963,'EGYPT': 26.2540493,'MACEDONIA': 41.6171214,'SLOVENIA': 45.8133113,\n",
    "             'BELGIUM': 50.6402809,'NEW ZEALAND': -41.5000831,'MALAWI': -13.2687204,'JORDAN': 31.1667049,'TRINIDAD TOBACCO': 10.8677845,\n",
    "             'KENYA': 1.4419683,'VIETNAM': 13.2904027,'RWANDA': -1.9646631,'ERITREA': 15.9500319,'CANADA': 61.0666922,\n",
    "             'NETHERLANDS': 52.2288689,'SOUTH AFRICA': -28.8166236,'PERU': -6.8699697,'LATVIA': 56.8406494,'NIGER': 17.7356214,\n",
    "             'IVORY COAST': 7.9897371,'UGANDA': 1.5333554,'BERMUDA': 32.30382,'POLAND': 52.215933,'CHINA': 35.000074,\n",
    "             'KUWAIT': 29.2733964,'AUSTRALIA': -24.7761086,'ZAMBIA': -14.5189121,'SAUD ARABIA': 25.6242618,'MALAYSIA': 4.5693754,\n",
    "             'JAMAICA': 18.1850507,'FINLAND': 63.2467777,'BURUNDI': -3.426449,'BOSNIA': 44.3053476,'SWITZERLAND': 46.7985624,\n",
    "             'PAKISTAN': 30.3308401}\n",
    "longitude = {'BELARUS':27.6971358,'BOLIVIA':-64.9912286,'MYANMAR':95.9999652,'IRAQ':44.1749775,'EL SALVADOR':-88.9140683,\n",
    "             'HAITI':-72.3570972,'GUINEA':-10.7083587,'BENIN':2.2584408,'KAZAKHSTAN':65.2093197,'CHAD':19.0156172,\n",
    "             'BAHRAIN': 50.5344606,'LITHUANIA': 23.7499997,'BURGARIA': 25.4856617,'DJIBOUT': 42.8453061,'AUSTRIA': 14.12456,\n",
    "             'GERMANY': 10.4234469,'GHANA': -1.0800271,'SENEGAL': -14.4529612,'JAPAN': 139.2394179,'SERBIA': 20.55144,\n",
    "             'ICELAND': -18.1059013,'SPAIN': -4.8379791,'SEYCHELLES': 55.4540146,'DOMINICA': -70.3028026,'ANGOLA': 17.5691241,\n",
    "             'NEPAL': 84.0917139,'SRI LANKA': 80.7137847,'MONTENEGRO': 19.5180992,'IRELAND': -7.9794599,'BRAZIL': -53.2,\n",
    "             'IRAN': 54.5643516,'GAMBIA': -15.4900464,'NIGERIA': 7.9999721,'CAPE VERDE': -24.0083947,'UKRAIN': 31.2718321,\n",
    "             'LEBANON': 35.843409,'VENEZUELA': -66.1109318,'INDIA': 78.6677428,'BANGLADESH': 90.2934413,'TUNISIA': 9.400138,\n",
    "             'ETHIOPIA': 38.6521203,'NORWAY': 9.0999715,'CONGO': 23.8222636,'MOZAMBIQUE': 34.9144977,'GEORGIA': -83.1137366,\n",
    "             'AFGHANISTAN': 66.2385139,'MONECASQUE': 7.424224092532953,'HUNGARY': 19.5060937,'ALGERIA': 2.9999825,'LIBERIA': -9.3658524,\n",
    "             'SINGAPORE': 103.8194992,'PAPUA NEW GUINEA': 144.2489081,'UNITED KINGDOM': -3.2765753,'CHILE': -71.3187697,'ITALY': 12.674297,\n",
    "             'MEXICO': -102.0077097,'SCOTLAND': -4.1140518,'UNITED ARAB EMIRATES': 53.9994829,'SWAZILAND': 31.3991317,'DRC': 23.8222636,\n",
    "             'ZIMBABWE': 29.7468414,'BARBADOS': -59.5250305,'ROMANIA': 24.6859225,'INDONESIA': 117.8902853,'TAIWAN': 120.9820179,\n",
    "             'KOREA': 127.6961188,'URUGUAY': -56.0201525,'SWEDEN': 14.5208584,'TANZANIA': 35.7878438,'GREECE': 21.9877132,\n",
    "             'CZECH REPUBLIC': 15.4749544,'SUDAN': 29.4917691,'MALTA': 14.4476911,'MOROCCO': -7.3362482,'COMORO': 44.2832964,\n",
    "             'CAMEROON': 13.1535811,'TURKEY': 34.9249653,'FRANCE': 1.8883335,'ISRAEL': 34.8667654,'CROATIA': 17.0118954,\n",
    "             'PHILIPINES': 122.7312101,'ECUADO': -79.3666965,'PORTUGAL': -7.8896263,'THAILAND': 100.83273,'ESTONIA': 25.3319078,\n",
    "             'COSTA RICA': -84.0739102,'DENMARK': 10.3333283,'UAE': 53.9994829,'MAURITIUS': 57.5703566,'CAMBODIA': 104.869423,\n",
    "             'QATAR': 51.2295295,'UNITED STATES OF AMERICA': -100.445882,'BOTSWANA': 24.5928742,'COLOMBIA': -72.9088133,'NAMIBIA': 17.3231107,\n",
    "             'ARMENIA': 44.6736646,'CYPRUS': 33.1451285,'RUSSIA': 97.7453061,'YEMEN': 47.8915271,'LUXEMBOURG': 6.1296751,\n",
    "             'SOMALI': 49.083416,'OMAN': 57.0036901,'MADAGASCAR': 46.4416422,'SLOVAKIA': 19.4528646,'LESOTHO': 28.3350193,\n",
    "             'BULGARIA': 25.4856617,'ARGENTINA': -64.9672817,'EGYPT': 29.2675469,'MACEDONIA': 21.7168387,'SLOVENIA': 14.4808369,\n",
    "             'BELGIUM': 4.6667145,'NEW ZEALAND': 172.8344077,'MALAWI': 33.9301963,'JORDAN': 36.941628,'TRINIDAD TOBACCO': -60.9821067,\n",
    "             'KENYA': 38.4313975,'VIETNAM': 108.4265113,'RWANDA': 30.0644358,'ERITREA': 37.9999668,'CANADA': -107.991707,\n",
    "             'NETHERLANDS': 5.3214503,'SOUTH AFRICA': 24.991639,'PERU': -75.0458515,'LATVIA': 24.7537645,'NIGER': 9.3238432,\n",
    "             'IVORY COAST': -5.5679458,'UGANDA': 32.2166578,'BERMUDA': -64.7561647,'POLAND': 19.134422,'CHINA': 104.999927,\n",
    "             'KUWAIT': 47.4979476,'AUSTRALIA': 134.755,'ZAMBIA': 27.5589884,'SAUD ARABIA': 42.3528328,'MALAYSIA': 102.2656823,\n",
    "             'JAMAICA': -77.3947693,'FINLAND': 25.9209164,'BURUNDI': 29.9324519,'BOSNIA': 17.5961467,'SWITZERLAND': 8.2319736,\n",
    "             'PAKISTAN': 71.247499}"
   ]
  },
  {
   "cell_type": "code",
   "execution_count": 41,
   "id": "19c5fd48",
   "metadata": {},
   "outputs": [],
   "source": [
    "for dataset in (train_df,test_df):\n",
    "    dataset['Latitude'] = dataset['country'].map(latitude)\n",
    "    dataset['Longitude'] = dataset['country'].map(longitude)"
   ]
  },
  {
   "cell_type": "markdown",
   "id": "fd2b5672",
   "metadata": {},
   "source": [
    "# Missing Values"
   ]
  },
  {
   "cell_type": "code",
   "execution_count": 621,
   "id": "d3a31ed3",
   "metadata": {
    "scrolled": true
   },
   "outputs": [
    {
     "data": {
      "text/html": [
       "<div>\n",
       "<style scoped>\n",
       "    .dataframe tbody tr th:only-of-type {\n",
       "        vertical-align: middle;\n",
       "    }\n",
       "\n",
       "    .dataframe tbody tr th {\n",
       "        vertical-align: top;\n",
       "    }\n",
       "\n",
       "    .dataframe thead th {\n",
       "        text-align: right;\n",
       "    }\n",
       "</style>\n",
       "<table border=\"1\" class=\"dataframe\">\n",
       "  <thead>\n",
       "    <tr style=\"text-align: right;\">\n",
       "      <th></th>\n",
       "      <th>Total</th>\n",
       "      <th>%</th>\n",
       "    </tr>\n",
       "  </thead>\n",
       "  <tbody>\n",
       "    <tr>\n",
       "      <th>travel_with</th>\n",
       "      <td>1075</td>\n",
       "      <td>5.8</td>\n",
       "    </tr>\n",
       "    <tr>\n",
       "      <th>TotalTourists</th>\n",
       "      <td>8</td>\n",
       "      <td>0.0</td>\n",
       "    </tr>\n",
       "    <tr>\n",
       "      <th>total_male</th>\n",
       "      <td>6</td>\n",
       "      <td>0.0</td>\n",
       "    </tr>\n",
       "    <tr>\n",
       "      <th>total_female</th>\n",
       "      <td>2</td>\n",
       "      <td>0.0</td>\n",
       "    </tr>\n",
       "    <tr>\n",
       "      <th>TouristsCountry</th>\n",
       "      <td>0</td>\n",
       "      <td>0.0</td>\n",
       "    </tr>\n",
       "    <tr>\n",
       "      <th>TouristsSTR</th>\n",
       "      <td>0</td>\n",
       "      <td>0.0</td>\n",
       "    </tr>\n",
       "    <tr>\n",
       "      <th>CountryCosts</th>\n",
       "      <td>0</td>\n",
       "      <td>0.0</td>\n",
       "    </tr>\n",
       "    <tr>\n",
       "      <th>ContinentsCosts</th>\n",
       "      <td>0</td>\n",
       "      <td>0.0</td>\n",
       "    </tr>\n",
       "    <tr>\n",
       "      <th>AgesCosts</th>\n",
       "      <td>0</td>\n",
       "      <td>0.0</td>\n",
       "    </tr>\n",
       "    <tr>\n",
       "      <th>PurposeCosts</th>\n",
       "      <td>0</td>\n",
       "      <td>0.0</td>\n",
       "    </tr>\n",
       "    <tr>\n",
       "      <th>ActivityCosts</th>\n",
       "      <td>0</td>\n",
       "      <td>0.0</td>\n",
       "    </tr>\n",
       "    <tr>\n",
       "      <th>InfoCosts</th>\n",
       "      <td>0</td>\n",
       "      <td>0.0</td>\n",
       "    </tr>\n",
       "    <tr>\n",
       "      <th>PurposeCountry</th>\n",
       "      <td>0</td>\n",
       "      <td>0.0</td>\n",
       "    </tr>\n",
       "    <tr>\n",
       "      <th>AgesCountry</th>\n",
       "      <td>0</td>\n",
       "      <td>0.0</td>\n",
       "    </tr>\n",
       "    <tr>\n",
       "      <th>Continent</th>\n",
       "      <td>0</td>\n",
       "      <td>0.0</td>\n",
       "    </tr>\n",
       "    <tr>\n",
       "      <th>ActivityCountry</th>\n",
       "      <td>0</td>\n",
       "      <td>0.0</td>\n",
       "    </tr>\n",
       "    <tr>\n",
       "      <th>InfoCountry</th>\n",
       "      <td>0</td>\n",
       "      <td>0.0</td>\n",
       "    </tr>\n",
       "    <tr>\n",
       "      <th>TouristsContinent</th>\n",
       "      <td>0</td>\n",
       "      <td>0.0</td>\n",
       "    </tr>\n",
       "    <tr>\n",
       "      <th>AgesContinent</th>\n",
       "      <td>0</td>\n",
       "      <td>0.0</td>\n",
       "    </tr>\n",
       "    <tr>\n",
       "      <th>PurposeContinent</th>\n",
       "      <td>0</td>\n",
       "      <td>0.0</td>\n",
       "    </tr>\n",
       "    <tr>\n",
       "      <th>ActivityContinent</th>\n",
       "      <td>0</td>\n",
       "      <td>0.0</td>\n",
       "    </tr>\n",
       "    <tr>\n",
       "      <th>NightsSTR</th>\n",
       "      <td>0</td>\n",
       "      <td>0.0</td>\n",
       "    </tr>\n",
       "    <tr>\n",
       "      <th>country</th>\n",
       "      <td>0</td>\n",
       "      <td>0.0</td>\n",
       "    </tr>\n",
       "    <tr>\n",
       "      <th>IsFullTour</th>\n",
       "      <td>0</td>\n",
       "      <td>0.0</td>\n",
       "    </tr>\n",
       "    <tr>\n",
       "      <th>age_group</th>\n",
       "      <td>0</td>\n",
       "      <td>0.0</td>\n",
       "    </tr>\n",
       "    <tr>\n",
       "      <th>purpose</th>\n",
       "      <td>0</td>\n",
       "      <td>0.0</td>\n",
       "    </tr>\n",
       "    <tr>\n",
       "      <th>main_activity</th>\n",
       "      <td>0</td>\n",
       "      <td>0.0</td>\n",
       "    </tr>\n",
       "    <tr>\n",
       "      <th>info_source</th>\n",
       "      <td>0</td>\n",
       "      <td>0.0</td>\n",
       "    </tr>\n",
       "    <tr>\n",
       "      <th>tour_arrangement</th>\n",
       "      <td>0</td>\n",
       "      <td>0.0</td>\n",
       "    </tr>\n",
       "    <tr>\n",
       "      <th>package_transport_int</th>\n",
       "      <td>0</td>\n",
       "      <td>0.0</td>\n",
       "    </tr>\n",
       "    <tr>\n",
       "      <th>package_accomodation</th>\n",
       "      <td>0</td>\n",
       "      <td>0.0</td>\n",
       "    </tr>\n",
       "    <tr>\n",
       "      <th>package_food</th>\n",
       "      <td>0</td>\n",
       "      <td>0.0</td>\n",
       "    </tr>\n",
       "    <tr>\n",
       "      <th>package_transport_tz</th>\n",
       "      <td>0</td>\n",
       "      <td>0.0</td>\n",
       "    </tr>\n",
       "    <tr>\n",
       "      <th>package_sightseeing</th>\n",
       "      <td>0</td>\n",
       "      <td>0.0</td>\n",
       "    </tr>\n",
       "    <tr>\n",
       "      <th>package_guided_tour</th>\n",
       "      <td>0</td>\n",
       "      <td>0.0</td>\n",
       "    </tr>\n",
       "    <tr>\n",
       "      <th>package_insurance</th>\n",
       "      <td>0</td>\n",
       "      <td>0.0</td>\n",
       "    </tr>\n",
       "    <tr>\n",
       "      <th>night_mainland</th>\n",
       "      <td>0</td>\n",
       "      <td>0.0</td>\n",
       "    </tr>\n",
       "    <tr>\n",
       "      <th>night_zanzibar</th>\n",
       "      <td>0</td>\n",
       "      <td>0.0</td>\n",
       "    </tr>\n",
       "    <tr>\n",
       "      <th>first_trip_tz</th>\n",
       "      <td>0</td>\n",
       "      <td>0.0</td>\n",
       "    </tr>\n",
       "    <tr>\n",
       "      <th>cost_category</th>\n",
       "      <td>0</td>\n",
       "      <td>0.0</td>\n",
       "    </tr>\n",
       "    <tr>\n",
       "      <th>InfoContinent</th>\n",
       "      <td>0</td>\n",
       "      <td>0.0</td>\n",
       "    </tr>\n",
       "  </tbody>\n",
       "</table>\n",
       "</div>"
      ],
      "text/plain": [
       "                       Total    %\n",
       "travel_with             1075  5.8\n",
       "TotalTourists              8  0.0\n",
       "total_male                 6  0.0\n",
       "total_female               2  0.0\n",
       "TouristsCountry            0  0.0\n",
       "TouristsSTR                0  0.0\n",
       "CountryCosts               0  0.0\n",
       "ContinentsCosts            0  0.0\n",
       "AgesCosts                  0  0.0\n",
       "PurposeCosts               0  0.0\n",
       "ActivityCosts              0  0.0\n",
       "InfoCosts                  0  0.0\n",
       "PurposeCountry             0  0.0\n",
       "AgesCountry                0  0.0\n",
       "Continent                  0  0.0\n",
       "ActivityCountry            0  0.0\n",
       "InfoCountry                0  0.0\n",
       "TouristsContinent          0  0.0\n",
       "AgesContinent              0  0.0\n",
       "PurposeContinent           0  0.0\n",
       "ActivityContinent          0  0.0\n",
       "NightsSTR                  0  0.0\n",
       "country                    0  0.0\n",
       "IsFullTour                 0  0.0\n",
       "age_group                  0  0.0\n",
       "purpose                    0  0.0\n",
       "main_activity              0  0.0\n",
       "info_source                0  0.0\n",
       "tour_arrangement           0  0.0\n",
       "package_transport_int      0  0.0\n",
       "package_accomodation       0  0.0\n",
       "package_food               0  0.0\n",
       "package_transport_tz       0  0.0\n",
       "package_sightseeing        0  0.0\n",
       "package_guided_tour        0  0.0\n",
       "package_insurance          0  0.0\n",
       "night_mainland             0  0.0\n",
       "night_zanzibar             0  0.0\n",
       "first_trip_tz              0  0.0\n",
       "cost_category              0  0.0\n",
       "InfoContinent              0  0.0"
      ]
     },
     "execution_count": 621,
     "metadata": {},
     "output_type": "execute_result"
    }
   ],
   "source": [
    "#missing data percentage (Training)\n",
    "total = train_df.isnull().sum().sort_values(ascending=False)\n",
    "percent_1 = train_df.isnull().sum()/train_df.isnull().count()*100\n",
    "percent_2 = (round(percent_1, 1)).sort_values(ascending=False)\n",
    "missing_data = pd.concat([total, percent_2], axis=1, keys=['Total', '%'])\n",
    "missing_data"
   ]
  },
  {
   "cell_type": "code",
   "execution_count": 622,
   "id": "69356523",
   "metadata": {
    "scrolled": true
   },
   "outputs": [
    {
     "data": {
      "text/html": [
       "<div>\n",
       "<style scoped>\n",
       "    .dataframe tbody tr th:only-of-type {\n",
       "        vertical-align: middle;\n",
       "    }\n",
       "\n",
       "    .dataframe tbody tr th {\n",
       "        vertical-align: top;\n",
       "    }\n",
       "\n",
       "    .dataframe thead th {\n",
       "        text-align: right;\n",
       "    }\n",
       "</style>\n",
       "<table border=\"1\" class=\"dataframe\">\n",
       "  <thead>\n",
       "    <tr style=\"text-align: right;\">\n",
       "      <th></th>\n",
       "      <th>Total</th>\n",
       "      <th>%</th>\n",
       "    </tr>\n",
       "  </thead>\n",
       "  <tbody>\n",
       "    <tr>\n",
       "      <th>travel_with</th>\n",
       "      <td>361</td>\n",
       "      <td>5.9</td>\n",
       "    </tr>\n",
       "    <tr>\n",
       "      <th>CountryCosts</th>\n",
       "      <td>11</td>\n",
       "      <td>0.2</td>\n",
       "    </tr>\n",
       "    <tr>\n",
       "      <th>TotalTourists</th>\n",
       "      <td>3</td>\n",
       "      <td>0.0</td>\n",
       "    </tr>\n",
       "    <tr>\n",
       "      <th>total_female</th>\n",
       "      <td>2</td>\n",
       "      <td>0.0</td>\n",
       "    </tr>\n",
       "    <tr>\n",
       "      <th>total_male</th>\n",
       "      <td>1</td>\n",
       "      <td>0.0</td>\n",
       "    </tr>\n",
       "    <tr>\n",
       "      <th>country</th>\n",
       "      <td>0</td>\n",
       "      <td>0.0</td>\n",
       "    </tr>\n",
       "    <tr>\n",
       "      <th>TouristsCountry</th>\n",
       "      <td>0</td>\n",
       "      <td>0.0</td>\n",
       "    </tr>\n",
       "    <tr>\n",
       "      <th>ContinentsCosts</th>\n",
       "      <td>0</td>\n",
       "      <td>0.0</td>\n",
       "    </tr>\n",
       "    <tr>\n",
       "      <th>AgesCosts</th>\n",
       "      <td>0</td>\n",
       "      <td>0.0</td>\n",
       "    </tr>\n",
       "    <tr>\n",
       "      <th>PurposeCosts</th>\n",
       "      <td>0</td>\n",
       "      <td>0.0</td>\n",
       "    </tr>\n",
       "    <tr>\n",
       "      <th>ActivityCosts</th>\n",
       "      <td>0</td>\n",
       "      <td>0.0</td>\n",
       "    </tr>\n",
       "    <tr>\n",
       "      <th>InfoCosts</th>\n",
       "      <td>0</td>\n",
       "      <td>0.0</td>\n",
       "    </tr>\n",
       "    <tr>\n",
       "      <th>PurposeCountry</th>\n",
       "      <td>0</td>\n",
       "      <td>0.0</td>\n",
       "    </tr>\n",
       "    <tr>\n",
       "      <th>AgesCountry</th>\n",
       "      <td>0</td>\n",
       "      <td>0.0</td>\n",
       "    </tr>\n",
       "    <tr>\n",
       "      <th>NightsSTR</th>\n",
       "      <td>0</td>\n",
       "      <td>0.0</td>\n",
       "    </tr>\n",
       "    <tr>\n",
       "      <th>ActivityCountry</th>\n",
       "      <td>0</td>\n",
       "      <td>0.0</td>\n",
       "    </tr>\n",
       "    <tr>\n",
       "      <th>InfoCountry</th>\n",
       "      <td>0</td>\n",
       "      <td>0.0</td>\n",
       "    </tr>\n",
       "    <tr>\n",
       "      <th>TouristsContinent</th>\n",
       "      <td>0</td>\n",
       "      <td>0.0</td>\n",
       "    </tr>\n",
       "    <tr>\n",
       "      <th>AgesContinent</th>\n",
       "      <td>0</td>\n",
       "      <td>0.0</td>\n",
       "    </tr>\n",
       "    <tr>\n",
       "      <th>PurposeContinent</th>\n",
       "      <td>0</td>\n",
       "      <td>0.0</td>\n",
       "    </tr>\n",
       "    <tr>\n",
       "      <th>ActivityContinent</th>\n",
       "      <td>0</td>\n",
       "      <td>0.0</td>\n",
       "    </tr>\n",
       "    <tr>\n",
       "      <th>TouristsSTR</th>\n",
       "      <td>0</td>\n",
       "      <td>0.0</td>\n",
       "    </tr>\n",
       "    <tr>\n",
       "      <th>IsFullTour</th>\n",
       "      <td>0</td>\n",
       "      <td>0.0</td>\n",
       "    </tr>\n",
       "    <tr>\n",
       "      <th>Continent</th>\n",
       "      <td>0</td>\n",
       "      <td>0.0</td>\n",
       "    </tr>\n",
       "    <tr>\n",
       "      <th>package_food</th>\n",
       "      <td>0</td>\n",
       "      <td>0.0</td>\n",
       "    </tr>\n",
       "    <tr>\n",
       "      <th>purpose</th>\n",
       "      <td>0</td>\n",
       "      <td>0.0</td>\n",
       "    </tr>\n",
       "    <tr>\n",
       "      <th>main_activity</th>\n",
       "      <td>0</td>\n",
       "      <td>0.0</td>\n",
       "    </tr>\n",
       "    <tr>\n",
       "      <th>info_source</th>\n",
       "      <td>0</td>\n",
       "      <td>0.0</td>\n",
       "    </tr>\n",
       "    <tr>\n",
       "      <th>tour_arrangement</th>\n",
       "      <td>0</td>\n",
       "      <td>0.0</td>\n",
       "    </tr>\n",
       "    <tr>\n",
       "      <th>package_transport_int</th>\n",
       "      <td>0</td>\n",
       "      <td>0.0</td>\n",
       "    </tr>\n",
       "    <tr>\n",
       "      <th>package_accomodation</th>\n",
       "      <td>0</td>\n",
       "      <td>0.0</td>\n",
       "    </tr>\n",
       "    <tr>\n",
       "      <th>package_transport_tz</th>\n",
       "      <td>0</td>\n",
       "      <td>0.0</td>\n",
       "    </tr>\n",
       "    <tr>\n",
       "      <th>age_group</th>\n",
       "      <td>0</td>\n",
       "      <td>0.0</td>\n",
       "    </tr>\n",
       "    <tr>\n",
       "      <th>package_sightseeing</th>\n",
       "      <td>0</td>\n",
       "      <td>0.0</td>\n",
       "    </tr>\n",
       "    <tr>\n",
       "      <th>package_guided_tour</th>\n",
       "      <td>0</td>\n",
       "      <td>0.0</td>\n",
       "    </tr>\n",
       "    <tr>\n",
       "      <th>package_insurance</th>\n",
       "      <td>0</td>\n",
       "      <td>0.0</td>\n",
       "    </tr>\n",
       "    <tr>\n",
       "      <th>night_mainland</th>\n",
       "      <td>0</td>\n",
       "      <td>0.0</td>\n",
       "    </tr>\n",
       "    <tr>\n",
       "      <th>night_zanzibar</th>\n",
       "      <td>0</td>\n",
       "      <td>0.0</td>\n",
       "    </tr>\n",
       "    <tr>\n",
       "      <th>first_trip_tz</th>\n",
       "      <td>0</td>\n",
       "      <td>0.0</td>\n",
       "    </tr>\n",
       "    <tr>\n",
       "      <th>InfoContinent</th>\n",
       "      <td>0</td>\n",
       "      <td>0.0</td>\n",
       "    </tr>\n",
       "  </tbody>\n",
       "</table>\n",
       "</div>"
      ],
      "text/plain": [
       "                       Total    %\n",
       "travel_with              361  5.9\n",
       "CountryCosts              11  0.2\n",
       "TotalTourists              3  0.0\n",
       "total_female               2  0.0\n",
       "total_male                 1  0.0\n",
       "country                    0  0.0\n",
       "TouristsCountry            0  0.0\n",
       "ContinentsCosts            0  0.0\n",
       "AgesCosts                  0  0.0\n",
       "PurposeCosts               0  0.0\n",
       "ActivityCosts              0  0.0\n",
       "InfoCosts                  0  0.0\n",
       "PurposeCountry             0  0.0\n",
       "AgesCountry                0  0.0\n",
       "NightsSTR                  0  0.0\n",
       "ActivityCountry            0  0.0\n",
       "InfoCountry                0  0.0\n",
       "TouristsContinent          0  0.0\n",
       "AgesContinent              0  0.0\n",
       "PurposeContinent           0  0.0\n",
       "ActivityContinent          0  0.0\n",
       "TouristsSTR                0  0.0\n",
       "IsFullTour                 0  0.0\n",
       "Continent                  0  0.0\n",
       "package_food               0  0.0\n",
       "purpose                    0  0.0\n",
       "main_activity              0  0.0\n",
       "info_source                0  0.0\n",
       "tour_arrangement           0  0.0\n",
       "package_transport_int      0  0.0\n",
       "package_accomodation       0  0.0\n",
       "package_transport_tz       0  0.0\n",
       "age_group                  0  0.0\n",
       "package_sightseeing        0  0.0\n",
       "package_guided_tour        0  0.0\n",
       "package_insurance          0  0.0\n",
       "night_mainland             0  0.0\n",
       "night_zanzibar             0  0.0\n",
       "first_trip_tz              0  0.0\n",
       "InfoContinent              0  0.0"
      ]
     },
     "execution_count": 622,
     "metadata": {},
     "output_type": "execute_result"
    }
   ],
   "source": [
    "#missing data percentage (Testing)\n",
    "total = test_df.isnull().sum().sort_values(ascending=False)\n",
    "percent_1 = test_df.isnull().sum()/test_df.isnull().count()*100\n",
    "percent_2 = (round(percent_1, 1)).sort_values(ascending=False)\n",
    "missing_data = pd.concat([total, percent_2], axis=1, keys=['Total', '%'])\n",
    "missing_data"
   ]
  },
  {
   "cell_type": "code",
   "execution_count": 42,
   "id": "0669f6cc",
   "metadata": {},
   "outputs": [],
   "source": [
    "for f in ['total_male','total_female','Males_Females']:\n",
    "    df = pd.concat([train_df,test_df])\n",
    "    median = df[f].median()\n",
    "    for dataset in (train_df,test_df):\n",
    "        dataset[f] = dataset[f].fillna(median) "
   ]
  },
  {
   "cell_type": "code",
   "execution_count": 43,
   "id": "0537063a",
   "metadata": {},
   "outputs": [],
   "source": [
    "for dataset in (train_df,test_df):\n",
    "    for i in range(0,dataset.shape[0]):\n",
    "        if ((dataset['total_male'][i]+dataset['total_female'][i]) == 1.0) and \\\n",
    "            (pd.isnull(dataset['travel_with'][i])):\n",
    "            dataset['travel_with'][i] = 'Alone'\n",
    "        elif ((dataset['total_male'][i]==1.0) and (dataset['total_female'][i]==1.0) and \\\n",
    "            (pd.isnull(dataset['travel_with'][i]))):\n",
    "            dataset['travel_with'][i] = 'Spouse'\n",
    "        \n",
    "\n",
    "#For other samples:\n",
    "for dataset in (train_df,test_df):\n",
    "    dataset['travel_with'] = dataset['travel_with'].fillna('Friends/Relatives') "
   ]
  },
  {
   "cell_type": "code",
   "execution_count": 44,
   "id": "f8e2e517",
   "metadata": {},
   "outputs": [],
   "source": [
    "df = pd.concat([train_df,test_df])\n",
    "mode = df['CountryCosts'].mode()\n",
    "train_df['CountryCosts'] = train_df['CountryCosts'].fillna(mode[0])\n",
    "test_df['CountryCosts'] = test_df['CountryCosts'].fillna(mode[0])"
   ]
  },
  {
   "cell_type": "code",
   "execution_count": 45,
   "id": "21a3d47f",
   "metadata": {},
   "outputs": [],
   "source": [
    "for dataset in (train_df,test_df):\n",
    "    dataset['TotalTourists'] = dataset['TotalTourists'].fillna(1) \n",
    "    dataset['Night_Tourists'] = dataset['Night_Tourists'].fillna(1)"
   ]
  },
  {
   "cell_type": "markdown",
   "id": "5c797fd7",
   "metadata": {},
   "source": [
    "# Encoding"
   ]
  },
  {
   "cell_type": "code",
   "execution_count": 46,
   "id": "4a726b21",
   "metadata": {},
   "outputs": [],
   "source": [
    "train_df['cost_category'] = train_df['cost_category'].map({'High Cost': 0,'Higher Cost': 1,'Highest Cost': 2, \n",
    "                                                           'Low Cost': 3,'Lower Cost': 4,'Normal Cost': 5})\n",
    "train_df['cost_category'] = (train_df['cost_category']).astype(int)\n",
    "\n",
    "feats = ['InfoCosts','ActivityCosts','PurposeCosts','AgesCosts','ContinentsCosts','CountryCosts']\n",
    "\n",
    "for dataset in (train_df,test_df):\n",
    "    for feat in feats:\n",
    "        dataset[feat] = dataset[feat].map({'High Cost': 0,'Higher Cost': 1,'Highest Cost': 2, \n",
    "                                             'Low Cost': 3,'Lower Cost': 4,'Normal Cost': 5})\n",
    "        dataset[feat] = (dataset[feat]).astype(int)"
   ]
  },
  {
   "cell_type": "code",
   "execution_count": 47,
   "id": "9b695662",
   "metadata": {},
   "outputs": [],
   "source": [
    "feats = ['Continent']\n",
    "enc=OneHotEncoder()\n",
    "enc_data=pd.DataFrame(enc.fit_transform(train_df[feats]).toarray())\n",
    "train_df=train_df.join(enc_data)\n",
    "enc_data=pd.DataFrame(enc.transform(test_df[feats]).toarray())\n",
    "test_df=test_df.join(enc_data)"
   ]
  },
  {
   "cell_type": "code",
   "execution_count": 48,
   "id": "d78094ec",
   "metadata": {
    "scrolled": true
   },
   "outputs": [
    {
     "name": "stdout",
     "output_type": "stream",
     "text": [
      "country\n",
      "age_group\n",
      "travel_with\n",
      "purpose\n",
      "main_activity\n",
      "info_source\n",
      "tour_arrangement\n",
      "package_transport_int\n",
      "package_accomodation\n",
      "package_food\n",
      "package_transport_tz\n",
      "package_sightseeing\n",
      "package_guided_tour\n",
      "package_insurance\n",
      "first_trip_tz\n",
      "IsFullTour\n",
      "Continent\n",
      "NightsSTR\n",
      "TouristsSTR\n",
      "AgesCountry\n",
      "PurposeCountry\n",
      "ActivityCountry\n",
      "InfoCountry\n",
      "AgesContinent\n",
      "PurposeContinent\n",
      "ActivityContinent\n",
      "InfoContinent\n",
      "Country_Tour\n",
      "Tourists_Ages\n"
     ]
    }
   ],
   "source": [
    "attributes = list(test_df.select_dtypes(include=['object', 'boolean']).columns)\n",
    "       \n",
    "def label_enc(train_df, test_df, features):\n",
    "    lbl_enc = LabelEncoder()\n",
    "    full_data = pd.concat(\n",
    "        [train_df[features], test_df[features]],\n",
    "        axis=0\n",
    "    )\n",
    "    \n",
    "    for col in (features):\n",
    "        print(col)\n",
    "        lbl_enc.fit(full_data[col].values)\n",
    "        train_df[col] = lbl_enc.transform(train_df[col])\n",
    "        test_df[col] = lbl_enc.transform(test_df[col])\n",
    "            \n",
    "    return train_df, test_df\n",
    "\n",
    "train_df, test_df = label_enc(train_df,test_df,attributes)"
   ]
  },
  {
   "cell_type": "markdown",
   "id": "e52efdb8",
   "metadata": {},
   "source": [
    "# Modeling"
   ]
  },
  {
   "cell_type": "code",
   "execution_count": 49,
   "id": "7aa1e8e9",
   "metadata": {},
   "outputs": [],
   "source": [
    "params = {'n_estimators': 88, 'reg_lambda': 0.6375402393296572, \n",
    "          'colsample_bytree': 0.48426695097808015, 'num_leaves': 38, \n",
    "          'subsample': 0.6437900944929755, 'min_child_samples': 185, \n",
    "          'max_depth': 5, 'random_state': 21}\n",
    "\n",
    "xgb_params = {'n_estimators': 88, 'reg_lambda': 0.6375402393296572, \n",
    "              'colsample_bytree': 0.48426695097808015, 'subsample': 0.6437900944929755,\n",
    "              'max_depth': 5, 'random_state': 21} \n",
    "\n",
    "rnf_params = {'max_depth': 16, 'max_features':'log2', 'n_estimators': 1000, 'random_state': 21}\n",
    "\n",
    "cat_params = {\"iterations\":1000, \"learning_rate\":0.01, \"verbose\":0, \"random_state\":21}"
   ]
  },
  {
   "cell_type": "code",
   "execution_count": 50,
   "id": "4333dff8",
   "metadata": {},
   "outputs": [],
   "source": [
    "models = [\n",
    "            ('lgb', LGBMClassifier(**params)),\n",
    "            ('rnd', RandomForestClassifier(**rnf_params)),\n",
    "            ('xgb', XGBClassifier(**xgb_params)),\n",
    "            ('cat', CatBoostClassifier(**cat_params)),\n",
    "             ]\n",
    "\n",
    "model =  VotingClassifier(estimators=models, voting='soft', flatten_transform=True)"
   ]
  },
  {
   "cell_type": "code",
   "execution_count": 52,
   "id": "935e1a08",
   "metadata": {
    "scrolled": true
   },
   "outputs": [
    {
     "name": "stdout",
     "output_type": "stream",
     "text": [
      "[11:58:50] WARNING: C:/Users/Administrator/workspace/xgboost-win64_release_1.5.1/src/learner.cc:1115: Starting in XGBoost 1.3.0, the default evaluation metric used with the objective 'multi:softprob' was changed from 'merror' to 'mlogloss'. Explicitly set eval_metric if you'd like to restore the old behavior.\n",
      "[12:00:09] WARNING: C:/Users/Administrator/workspace/xgboost-win64_release_1.5.1/src/learner.cc:1115: Starting in XGBoost 1.3.0, the default evaluation metric used with the objective 'multi:softprob' was changed from 'merror' to 'mlogloss'. Explicitly set eval_metric if you'd like to restore the old behavior.\n",
      "[12:01:24] WARNING: C:/Users/Administrator/workspace/xgboost-win64_release_1.5.1/src/learner.cc:1115: Starting in XGBoost 1.3.0, the default evaluation metric used with the objective 'multi:softprob' was changed from 'merror' to 'mlogloss'. Explicitly set eval_metric if you'd like to restore the old behavior.\n",
      "Cross Validation Scores are [1.05931396 1.06589072 1.06435151]\n",
      "Average Cross Validation score :1.063185399214649\n",
      "Standard Deviation Cross Validation score :0.0028087127795467684\n"
     ]
    }
   ],
   "source": [
    "X = train_df.drop('cost_category',axis=1)\n",
    "y = train_df['cost_category'].copy()\n",
    "score=cross_val_score(model,X,y,cv=3, scoring='neg_log_loss')\n",
    "print(\"Cross Validation Scores are {}\".format(-score))\n",
    "print(\"Average Cross Validation score :{}\".format((-score).mean()))\n",
    "print(\"Standard Deviation Cross Validation score :{}\".format((-score).std()))\n",
    "\n",
    "#Best 9: LB: 1.049956138336363\n",
    "# Cross Validation Scores are [1.05931396 1.06589072 1.06435151]\n",
    "# Average Cross Validation score :1.063185399214649\n",
    "# Standard Deviation Cross Validation score :0.0028087127795467684"
   ]
  },
  {
   "cell_type": "markdown",
   "id": "6c2d790d",
   "metadata": {},
   "source": [
    "## Make the Submission File "
   ]
  },
  {
   "cell_type": "code",
   "execution_count": 53,
   "id": "ec1ed60e",
   "metadata": {},
   "outputs": [
    {
     "name": "stdout",
     "output_type": "stream",
     "text": [
      "[12:03:59] WARNING: C:/Users/Administrator/workspace/xgboost-win64_release_1.5.1/src/learner.cc:1115: Starting in XGBoost 1.3.0, the default evaluation metric used with the objective 'multi:softprob' was changed from 'merror' to 'mlogloss'. Explicitly set eval_metric if you'd like to restore the old behavior.\n"
     ]
    }
   ],
   "source": [
    "X = train_df.drop('cost_category',axis=1)\n",
    "y = train_df['cost_category'].copy()\n",
    "model.fit(X,y)\n",
    "test_df[['a','b','c','d','e','f']] = model.predict_proba(test_df)\n",
    "submission = pd.DataFrame({\"ID\": ID ,\"High Cost\": test_df['a'],\"Higher Cost\": test_df['b'],\"Highest Cost\": test_df['c'],\"Low Cost\": test_df['d'],\"Lower Cost\": test_df['e'],\"Normal Cost\": test_df['f']})\n",
    "submission.to_csv('Submission.csv',index=False)"
   ]
  }
 ],
 "metadata": {
  "kernelspec": {
   "display_name": "Python 3",
   "language": "python",
   "name": "python3"
  },
  "language_info": {
   "codemirror_mode": {
    "name": "ipython",
    "version": 3
   },
   "file_extension": ".py",
   "mimetype": "text/x-python",
   "name": "python",
   "nbconvert_exporter": "python",
   "pygments_lexer": "ipython3",
   "version": "3.8.8"
  }
 },
 "nbformat": 4,
 "nbformat_minor": 5
}
