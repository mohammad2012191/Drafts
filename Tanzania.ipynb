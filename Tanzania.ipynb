{
 "cells": [
  {
   "cell_type": "markdown",
   "id": "433cc9be",
   "metadata": {},
   "source": [
    "# AI4D Research Lab Tanzania Tourism Prediction\n",
    "# By Mohamed Eltayeb"
   ]
  },
  {
   "cell_type": "markdown",
   "id": "4d141a81",
   "metadata": {},
   "source": [
    "# Import libraries"
   ]
  },
  {
   "cell_type": "code",
   "execution_count": 1,
   "id": "91517d92",
   "metadata": {},
   "outputs": [],
   "source": [
    "import numpy as np\n",
    "import pandas as pd\n",
    "import matplotlib.pyplot as plt\n",
    "import seaborn as sns\n",
    "from scipy import stats\n",
    "\n",
    "from pandas.plotting import scatter_matrix\n",
    "from sklearn.preprocessing import  LabelEncoder\n",
    "from lightgbm import LGBMClassifier\n",
    "from sklearn.model_selection import cross_val_score,StratifiedKFold\n",
    "\n",
    "\n",
    "import warnings\n",
    "warnings.simplefilter(action='ignore', category=FutureWarning)\n",
    "pd.options.mode.chained_assignment = None  # default='warn'\n",
    "#pd.set_option('display.float_format', lambda x: '%.3f' % x)\n",
    "plt.rcParams[\"figure.figsize\"] = (12, 8)\n",
    "pd.set_option('display.max_columns', None)"
   ]
  },
  {
   "cell_type": "code",
   "execution_count": 2,
   "id": "65672b87",
   "metadata": {},
   "outputs": [],
   "source": [
    "#Plot the LGBM Features Importances\n",
    "def plotImp(model, X , num = 20, fig_size = (40, 20)):\n",
    "    feature_imp = pd.DataFrame({'Value':model.feature_importances_,'Feature':X.columns})\n",
    "    plt.figure(figsize=fig_size)\n",
    "    sns.set(font_scale = 5)\n",
    "    sns.barplot(x=\"Value\", y=\"Feature\", data=feature_imp.sort_values(by=\"Value\", \n",
    "                                                        ascending=False)[0:num])\n",
    "    plt.title('LightGBM Features (avg over folds)')\n",
    "    plt.tight_layout()\n",
    "    plt.savefig('lgbm_importances-01.png')\n",
    "    plt.show()"
   ]
  },
  {
   "cell_type": "markdown",
   "id": "a49c11da",
   "metadata": {},
   "source": [
    "# Read the training and testing data\n"
   ]
  },
  {
   "cell_type": "code",
   "execution_count": 122,
   "id": "addd163a",
   "metadata": {},
   "outputs": [],
   "source": [
    "train_df = pd.read_csv(\"train.csv\")\n",
    "test_df = pd.read_csv(\"test.csv\")\n",
    "ID = test_df['Tour_ID']"
   ]
  },
  {
   "cell_type": "markdown",
   "id": "594fa42b",
   "metadata": {},
   "source": [
    "# Features:"
   ]
  },
  {
   "cell_type": "code",
   "execution_count": null,
   "id": "71ee1b2c",
   "metadata": {},
   "outputs": [],
   "source": [
    "Features_Definitions = pd.read_csv(\"VariableDefinitions.csv\")\n",
    "Features_Definitions"
   ]
  },
  {
   "cell_type": "markdown",
   "id": "3ecb284e",
   "metadata": {},
   "source": [
    "## Fix Some Typos in the Data"
   ]
  },
  {
   "cell_type": "code",
   "execution_count": 123,
   "id": "29af455e",
   "metadata": {},
   "outputs": [],
   "source": [
    "for dataset in (train_df,test_df):\n",
    "    for i in range(0,dataset.shape[0]):\n",
    "        if(dataset['main_activity'][i] == 'Widlife Tourism'):\n",
    "            dataset['main_activity'][i] = 'Wildlife Tourism'\n",
    "        if(dataset['country'][i] == 'SWIZERLAND'):\n",
    "            dataset['country'][i] = 'SWITZERLAND'\n",
    "        if(dataset['country'][i] == 'MORROCO'):\n",
    "            dataset['country'][i] = 'MOROCCO'\n",
    "        if(dataset['country'][i] == 'MALT'):\n",
    "            dataset['country'][i] = 'MALTA'\n",
    "        if(dataset['country'][i] == 'COSTARICA'):\n",
    "            dataset['country'][i] = 'COSTA RICA'"
   ]
  },
  {
   "cell_type": "markdown",
   "id": "53857f36",
   "metadata": {},
   "source": [
    "# Exploratory Data Analysis:"
   ]
  },
  {
   "cell_type": "code",
   "execution_count": null,
   "id": "dbfef88f",
   "metadata": {},
   "outputs": [],
   "source": [
    "train_df.shape"
   ]
  },
  {
   "cell_type": "code",
   "execution_count": null,
   "id": "5ab6a206",
   "metadata": {},
   "outputs": [],
   "source": [
    "test_df.shape"
   ]
  },
  {
   "cell_type": "code",
   "execution_count": null,
   "id": "4ead70d8",
   "metadata": {},
   "outputs": [],
   "source": [
    "train_df.info()"
   ]
  },
  {
   "cell_type": "code",
   "execution_count": null,
   "id": "39ee4bed",
   "metadata": {},
   "outputs": [],
   "source": [
    "test_df.info()"
   ]
  },
  {
   "cell_type": "code",
   "execution_count": null,
   "id": "97a57f21",
   "metadata": {},
   "outputs": [],
   "source": [
    "train_df.head()"
   ]
  },
  {
   "cell_type": "code",
   "execution_count": null,
   "id": "9d06d557",
   "metadata": {},
   "outputs": [],
   "source": [
    "test_df.head()"
   ]
  },
  {
   "cell_type": "code",
   "execution_count": null,
   "id": "635d4e82",
   "metadata": {},
   "outputs": [],
   "source": [
    "train_df.describe()"
   ]
  },
  {
   "cell_type": "code",
   "execution_count": null,
   "id": "babc9336",
   "metadata": {},
   "outputs": [],
   "source": [
    "test_df.describe()"
   ]
  },
  {
   "cell_type": "code",
   "execution_count": null,
   "id": "dfb6d278",
   "metadata": {},
   "outputs": [],
   "source": [
    "#The cardinality of each catgorical feature (Training)\n",
    "cat_cols = train_df.columns\n",
    "for col in cat_cols:\n",
    "    print(col, train_df[col].nunique())"
   ]
  },
  {
   "cell_type": "code",
   "execution_count": null,
   "id": "2070c323",
   "metadata": {},
   "outputs": [],
   "source": [
    "#The cardinality of each catgorical feature (Testing)\n",
    "cat_cols = test_df.columns\n",
    "for col in cat_cols:\n",
    "    print(col, test_df[col].nunique())"
   ]
  },
  {
   "cell_type": "markdown",
   "id": "6a0b8bfe",
   "metadata": {},
   "source": [
    "# Plots"
   ]
  },
  {
   "cell_type": "code",
   "execution_count": null,
   "id": "60f10fd2",
   "metadata": {},
   "outputs": [],
   "source": [
    "#Target Histogram\n",
    "train_df['cost_category'].hist()"
   ]
  },
  {
   "cell_type": "code",
   "execution_count": null,
   "id": "355afbdb",
   "metadata": {},
   "outputs": [],
   "source": [
    "#Numerical Features Histograms (Train)\n",
    "num_feats = list(train_df.select_dtypes(include=['int64', 'float64', 'int32']).columns)\n",
    "train_df[num_feats].hist(figsize=(20,15));"
   ]
  },
  {
   "cell_type": "code",
   "execution_count": null,
   "id": "b2bfcac9",
   "metadata": {},
   "outputs": [],
   "source": [
    "#Numerical Features Histograms (Test)\n",
    "num_feats = list(test_df.select_dtypes(include=['int64', 'float64', 'int32']).columns)\n",
    "test_df[num_feats].hist(figsize=(20,15));"
   ]
  },
  {
   "cell_type": "code",
   "execution_count": null,
   "id": "4795bf60",
   "metadata": {},
   "outputs": [],
   "source": [
    "#main_activity ----- cost_category \n",
    "sns.countplot( x='cost_category', data=train_df, hue=\"main_activity\", palette=\"Set1\");"
   ]
  },
  {
   "cell_type": "markdown",
   "id": "97dc08b0",
   "metadata": {},
   "source": [
    "##### Most of tourists tend to like Wildlife Tourism. \n",
    "##### We can see as well the Conference Tourism is famous amongst those who spend high costs while Hunting Tourism is for those who spend low costs."
   ]
  },
  {
   "cell_type": "code",
   "execution_count": null,
   "id": "ce5a12c3",
   "metadata": {},
   "outputs": [],
   "source": [
    "#Age_group ----- cost_category\n",
    "sns.countplot( x='cost_category', data=train_df, hue=\"age_group\", palette=\"Set1\");"
   ]
  },
  {
   "cell_type": "markdown",
   "id": "8a7628cb",
   "metadata": {},
   "source": [
    "##### Those who are aged less than 45 years tend to spend much less money than those who are above 45."
   ]
  },
  {
   "cell_type": "code",
   "execution_count": null,
   "id": "09b1bf03",
   "metadata": {},
   "outputs": [],
   "source": [
    "#Purpose ----- cost_category \n",
    "sns.countplot( x='cost_category', data=train_df, hue=\"purpose\", palette=\"Set1\");"
   ]
  },
  {
   "cell_type": "markdown",
   "id": "c1f02f62",
   "metadata": {},
   "source": [
    "##### Appearently, most of the tourists come to Tanzania to enjoy the holiday."
   ]
  },
  {
   "cell_type": "code",
   "execution_count": null,
   "id": "20163407",
   "metadata": {
    "scrolled": false
   },
   "outputs": [],
   "source": [
    "#travel_with ----- cost_category \n",
    "sns.countplot( x='cost_category', data=train_df, hue=\"travel_with\", palette=\"Set1\");"
   ]
  },
  {
   "cell_type": "markdown",
   "id": "6f691dab",
   "metadata": {},
   "source": [
    "##### Although most of touriests come alone, a significant amount of them come with their spouses."
   ]
  },
  {
   "cell_type": "code",
   "execution_count": null,
   "id": "98b6c4cd",
   "metadata": {},
   "outputs": [],
   "source": [
    "#tour_arrangement ----- cost_category \n",
    "sns.countplot( x='cost_category', data=train_df, hue=\"tour_arrangement\", palette=\"Set1\");"
   ]
  },
  {
   "cell_type": "markdown",
   "id": "94bd5057",
   "metadata": {},
   "source": [
    "##### The higher is the tourists spendings, the more likely they arranged the tour using a Package tour."
   ]
  },
  {
   "cell_type": "code",
   "execution_count": null,
   "id": "b7a8a463",
   "metadata": {
    "scrolled": false
   },
   "outputs": [],
   "source": [
    "#first_trip_tz ----- cost_category \n",
    "sns.countplot( x='cost_category', data=train_df, hue=\"first_trip_tz\", palette=\"Set1\");"
   ]
  },
  {
   "cell_type": "markdown",
   "id": "a4a3bf57",
   "metadata": {},
   "source": [
    "##### People who visit Tanzania for the first time are much more likely to spend more money than those who visited it before."
   ]
  },
  {
   "cell_type": "code",
   "execution_count": null,
   "id": "2f7d08ed",
   "metadata": {},
   "outputs": [],
   "source": [
    "#night_mainland ------- night_zanzibar\n",
    "attributes = [\"night_mainland\", \"night_zanzibar\"]\n",
    "sns.pairplot(train_df[attributes], diag_kind=\"kde\")\n",
    "plt.gcf().set_size_inches(15, 10)"
   ]
  },
  {
   "cell_type": "markdown",
   "id": "fda42015",
   "metadata": {},
   "source": [
    "##### There are quite a lot of cases where the tourists visit Mainland but not Zanzibar and vice versa."
   ]
  },
  {
   "cell_type": "code",
   "execution_count": null,
   "id": "628dfe84",
   "metadata": {},
   "outputs": [],
   "source": [
    "#country ----- cost_category \n",
    "countries = train_df[(train_df['country'] =='UNITED STATES OF AMERICA') | (train_df['country'] =='UNITED KINGDOM') | \n",
    "                     (train_df['country'] =='ITALY') | (train_df['country'] =='FRANCE') | \n",
    "                     (train_df['country'] =='GERMANY') | (train_df['country'] =='SOUTH AFRICA') | \n",
    "                     (train_df['country'] =='KENYA') | (train_df['country'] =='ZAMBIA')]\n",
    "\n",
    "sns.countplot( x='cost_category', data=countries, hue=\"country\", palette=\"Set1\");"
   ]
  },
  {
   "cell_type": "markdown",
   "id": "3a20c68e",
   "metadata": {},
   "source": [
    "##### USA tourists are obviously the ones who spend the most."
   ]
  },
  {
   "cell_type": "markdown",
   "id": "9f685bf6",
   "metadata": {},
   "source": [
    "# Feature Engineering"
   ]
  },
  {
   "cell_type": "markdown",
   "id": "397f4490",
   "metadata": {},
   "source": [
    "### We will firstly drop \"ID\" column"
   ]
  },
  {
   "cell_type": "code",
   "execution_count": 124,
   "id": "4bf95abe",
   "metadata": {},
   "outputs": [],
   "source": [
    "for dataset in (train_df,test_df):\n",
    "    dataset.drop('Tour_ID',axis=1,inplace=True)"
   ]
  },
  {
   "cell_type": "markdown",
   "id": "b2c8e402",
   "metadata": {},
   "source": [
    "### Total Number of Tourists"
   ]
  },
  {
   "cell_type": "code",
   "execution_count": 125,
   "id": "57c24510",
   "metadata": {},
   "outputs": [],
   "source": [
    "for dataset in (train_df,test_df):\n",
    "    dataset['TotalTourists'] = dataset['total_male'] + dataset['total_female']"
   ]
  },
  {
   "cell_type": "markdown",
   "id": "e5657636",
   "metadata": {},
   "source": [
    "### Tour with All the Packages"
   ]
  },
  {
   "cell_type": "code",
   "execution_count": 126,
   "id": "010ce3bd",
   "metadata": {},
   "outputs": [],
   "source": [
    "#Transform them to boolean\n",
    "features = ['package_transport_int','package_accomodation','package_food',\n",
    "            'package_transport_tz','package_sightseeing','package_guided_tour','package_insurance']\n",
    "for dataset in (train_df,test_df):\n",
    "    for feature in features:\n",
    "        dataset[feature] = dataset[feature] == 'Yes'\n",
    "\n",
    "#Add them together\n",
    "for dataset in (train_df,test_df):\n",
    "    dataset['IsFullTour'] = dataset['package_transport_int'] & dataset['package_accomodation'] & \\\n",
    "                           dataset['package_food'] & dataset['package_transport_tz'] & \\\n",
    "                           dataset['package_sightseeing'] & dataset['package_guided_tour'] & \\\n",
    "                           dataset['package_insurance']"
   ]
  },
  {
   "cell_type": "markdown",
   "id": "fa874be1",
   "metadata": {},
   "source": [
    "### Adding Continents"
   ]
  },
  {
   "cell_type": "code",
   "execution_count": 127,
   "id": "9dc477ed",
   "metadata": {
    "scrolled": true
   },
   "outputs": [],
   "source": [
    "import pycountry_convert as pc\n",
    "\n",
    "def country_to_continent(country_name):\n",
    "    country_alpha2 = pc.country_name_to_country_alpha2(country_name)\n",
    "    country_continent_code = pc.country_alpha2_to_continent_code(country_alpha2)\n",
    "    country_continent_name = pc.convert_continent_code_to_continent_name(country_continent_code)\n",
    "    return country_continent_name\n",
    "for dataset in (train_df,test_df):\n",
    "    Continents = []\n",
    "    for country in dataset.country.values:\n",
    "        if country == 'UNITED STATES OF AMERICA':\n",
    "            Continents.append(country_to_continent('United States of America'))\n",
    "        elif country == 'UAE':\n",
    "            Continents.append(country_to_continent('United Arab Emirates'))\n",
    "        elif country == 'KOREA':\n",
    "            Continents.append(country_to_continent('South Korea'))\n",
    "        elif country == 'DRC':\n",
    "            Continents.append(country_to_continent('Democratic Republic of the Congo'))\n",
    "        elif country == 'COMORO':\n",
    "            Continents.append(country_to_continent('Comoros'))\n",
    "        elif country == 'SAUD ARABIA':\n",
    "            Continents.append(country_to_continent('Saudi Arabia'))\n",
    "        elif country == 'PHILIPINES':\n",
    "            Continents.append(country_to_continent('Philippines'))\n",
    "        elif country == 'SCOTLAND':\n",
    "            Continents.append('Europe')\n",
    "        elif country == 'UKRAIN':\n",
    "            Continents.append('Europe')\n",
    "        elif country == 'SOMALI':\n",
    "            Continents.append('Africa')\n",
    "        elif country == 'ECUADO':\n",
    "            Continents.append(country_to_continent('Ecuador'))\n",
    "        elif country == 'MONECASQUE':\n",
    "            Continents.append(country_to_continent('Monaco'))\n",
    "        elif country == 'TRINIDAD TOBACCO':\n",
    "            Continents.append(country_to_continent('Trinidad and Tobago'))\n",
    "        elif country == 'BURGARIA':\n",
    "            Continents.append(country_to_continent('Bulgaria'))\n",
    "        elif country == 'BOSNIA':\n",
    "            Continents.append(country_to_continent('Bosnia and Herzegovina'))\n",
    "        elif country == 'DJIBOUT':\n",
    "            Continents.append(country_to_continent('Djibouti'))\n",
    "        else:\n",
    "            Continents.append(country_to_continent((country).title()))\n",
    "    dataset['Continent'] = Continents\n"
   ]
  },
  {
   "cell_type": "markdown",
   "id": "cd01d72f",
   "metadata": {},
   "source": [
    "### Aggregations"
   ]
  },
  {
   "cell_type": "code",
   "execution_count": 128,
   "id": "50bbd658",
   "metadata": {},
   "outputs": [],
   "source": [
    "for dataset in (train_df,test_df):\n",
    "    dataset['NightsSTR'] = dataset['night_mainland'].astype(str) + dataset['night_zanzibar'].astype(str)\n",
    "    dataset['TouristsSTR'] = dataset['total_male'].astype(str) + dataset['total_female'].astype(str)"
   ]
  },
  {
   "cell_type": "code",
   "execution_count": 129,
   "id": "2582243b",
   "metadata": {},
   "outputs": [],
   "source": [
    "train_df1 = train_df.copy()\n",
    "test_df1 = test_df.copy()\n",
    "for f in ['total_male','total_female']:\n",
    "    df1 = pd.concat([train_df1,test_df1])\n",
    "    median = df1[f].median()\n",
    "    for dataset in (train_df1,test_df1):\n",
    "        dataset[f] = dataset[f].fillna(median) \n",
    "\n",
    "CountryCosts = dict(train_df1.groupby('country')['cost_category'].agg(lambda x: x.value_counts().index[0]))\n",
    "ContinentsCosts = dict(train_df1.groupby('Continent')['cost_category'].agg(lambda x: x.value_counts().index[0]))\n",
    "AgesCosts = dict(train_df1.groupby('age_group')['cost_category'].agg(lambda x: x.value_counts().index[0]))\n",
    "PurposeCosts = dict(train_df1.groupby('purpose')['cost_category'].agg(lambda x: x.value_counts().index[0]))\n",
    "ActivityCosts = dict(train_df1.groupby('main_activity')['cost_category'].agg(lambda x: x.value_counts().index[0]))\n",
    "InfoCosts = dict(train_df1.groupby('info_source')['cost_category'].agg(lambda x: x.value_counts().index[0]))\n",
    "TouristsCosts = dict(train_df1.groupby('TotalTourists')['cost_category'].agg(lambda x: x.value_counts().index[0]))\n",
    "\n",
    "\n",
    "for dataset in (train_df,test_df):\n",
    "    dataset['CountryCosts'] = dataset['country'].map(CountryCosts)\n",
    "    dataset['ContinentsCosts'] = dataset['Continent'].map(ContinentsCosts)\n",
    "    dataset['AgesCosts'] = dataset['age_group'].map(AgesCosts)\n",
    "    dataset['PurposeCosts'] = dataset['purpose'].map(PurposeCosts)\n",
    "    dataset['ActivityCosts'] = dataset['main_activity'].map(ActivityCosts)\n",
    "    dataset['InfoCosts'] = dataset['info_source'].map(InfoCosts)"
   ]
  },
  {
   "cell_type": "code",
   "execution_count": 130,
   "id": "af5801c3",
   "metadata": {},
   "outputs": [],
   "source": [
    "TouristsCountry = dict(df1.groupby('country')['TotalTourists'].median())\n",
    "AgesCountry = dict(df1.groupby('country')['age_group'].agg(lambda x: x.value_counts().index[0]))\n",
    "PurposeCountry = dict(df1.groupby('country')['purpose'].agg(lambda x: x.value_counts().index[0]))\n",
    "ActivityCountry = dict(df1.groupby('country')['main_activity'].agg(lambda x: x.value_counts().index[0]))\n",
    "InfoCountry = dict(df1.groupby('country')['info_source'].agg(lambda x: x.value_counts().index[0]))\n",
    "\n",
    "\n",
    "\n",
    "TouristsContinent = dict(df1.groupby('Continent')['TotalTourists'].median())\n",
    "AgesContinent = dict(df1.groupby('Continent')['age_group'].agg(lambda x: x.value_counts().index[0]))\n",
    "PurposeContinent = dict(df1.groupby('Continent')['purpose'].agg(lambda x: x.value_counts().index[0]))\n",
    "ActivityContinent = dict(df1.groupby('Continent')['main_activity'].agg(lambda x: x.value_counts().index[0]))\n",
    "InfoContinent = dict(df1.groupby('Continent')['info_source'].agg(lambda x: x.value_counts().index[0]))\n",
    "\n",
    "\n",
    "for dataset in (train_df,test_df):\n",
    "    dataset['TouristsCountry'] = dataset['country'].map(TouristsCountry)\n",
    "    dataset['AgesCountry'] = dataset['country'].map(AgesCountry)\n",
    "    dataset['PurposeCountry'] = dataset['country'].map(PurposeCountry)\n",
    "    dataset['ActivityCountry'] = dataset['country'].map(ActivityCountry)\n",
    "    dataset['InfoCountry'] = dataset['country'].map(InfoCountry)\n",
    "\n",
    "    \n",
    "    dataset['TouristsContinent'] = dataset['Continent'].map(TouristsContinent)\n",
    "    dataset['AgesContinent'] = dataset['Continent'].map(AgesContinent)\n",
    "    dataset['PurposeContinent'] = dataset['Continent'].map(PurposeContinent)\n",
    "    dataset['ActivityContinent'] = dataset['Continent'].map(ActivityContinent)\n",
    "    dataset['InfoContinent'] = dataset['Continent'].map(InfoContinent)"
   ]
  },
  {
   "cell_type": "markdown",
   "id": "fd2b5672",
   "metadata": {},
   "source": [
    "# Missing Values"
   ]
  },
  {
   "cell_type": "code",
   "execution_count": 85,
   "id": "d3a31ed3",
   "metadata": {
    "scrolled": true
   },
   "outputs": [
    {
     "data": {
      "text/html": [
       "<div>\n",
       "<style scoped>\n",
       "    .dataframe tbody tr th:only-of-type {\n",
       "        vertical-align: middle;\n",
       "    }\n",
       "\n",
       "    .dataframe tbody tr th {\n",
       "        vertical-align: top;\n",
       "    }\n",
       "\n",
       "    .dataframe thead th {\n",
       "        text-align: right;\n",
       "    }\n",
       "</style>\n",
       "<table border=\"1\" class=\"dataframe\">\n",
       "  <thead>\n",
       "    <tr style=\"text-align: right;\">\n",
       "      <th></th>\n",
       "      <th>Total</th>\n",
       "      <th>%</th>\n",
       "    </tr>\n",
       "  </thead>\n",
       "  <tbody>\n",
       "    <tr>\n",
       "      <th>TotalTourists</th>\n",
       "      <td>8</td>\n",
       "      <td>0.0</td>\n",
       "    </tr>\n",
       "    <tr>\n",
       "      <th>TouristsCosts</th>\n",
       "      <td>0</td>\n",
       "      <td>0.0</td>\n",
       "    </tr>\n",
       "    <tr>\n",
       "      <th>NightsSTR</th>\n",
       "      <td>0</td>\n",
       "      <td>0.0</td>\n",
       "    </tr>\n",
       "    <tr>\n",
       "      <th>TouristsSTR</th>\n",
       "      <td>0</td>\n",
       "      <td>0.0</td>\n",
       "    </tr>\n",
       "    <tr>\n",
       "      <th>CountryCosts</th>\n",
       "      <td>0</td>\n",
       "      <td>0.0</td>\n",
       "    </tr>\n",
       "    <tr>\n",
       "      <th>ContinentsCosts</th>\n",
       "      <td>0</td>\n",
       "      <td>0.0</td>\n",
       "    </tr>\n",
       "    <tr>\n",
       "      <th>AgesCosts</th>\n",
       "      <td>0</td>\n",
       "      <td>0.0</td>\n",
       "    </tr>\n",
       "    <tr>\n",
       "      <th>PurposeCosts</th>\n",
       "      <td>0</td>\n",
       "      <td>0.0</td>\n",
       "    </tr>\n",
       "    <tr>\n",
       "      <th>ActivityCosts</th>\n",
       "      <td>0</td>\n",
       "      <td>0.0</td>\n",
       "    </tr>\n",
       "    <tr>\n",
       "      <th>InfoCosts</th>\n",
       "      <td>0</td>\n",
       "      <td>0.0</td>\n",
       "    </tr>\n",
       "    <tr>\n",
       "      <th>country</th>\n",
       "      <td>0</td>\n",
       "      <td>0.0</td>\n",
       "    </tr>\n",
       "    <tr>\n",
       "      <th>Continent</th>\n",
       "      <td>0</td>\n",
       "      <td>0.0</td>\n",
       "    </tr>\n",
       "    <tr>\n",
       "      <th>AgesCountry</th>\n",
       "      <td>0</td>\n",
       "      <td>0.0</td>\n",
       "    </tr>\n",
       "    <tr>\n",
       "      <th>PurposeCountry</th>\n",
       "      <td>0</td>\n",
       "      <td>0.0</td>\n",
       "    </tr>\n",
       "    <tr>\n",
       "      <th>ActivityCountry</th>\n",
       "      <td>0</td>\n",
       "      <td>0.0</td>\n",
       "    </tr>\n",
       "    <tr>\n",
       "      <th>InfoCountry</th>\n",
       "      <td>0</td>\n",
       "      <td>0.0</td>\n",
       "    </tr>\n",
       "    <tr>\n",
       "      <th>TouristsContinent</th>\n",
       "      <td>0</td>\n",
       "      <td>0.0</td>\n",
       "    </tr>\n",
       "    <tr>\n",
       "      <th>AgesContinent</th>\n",
       "      <td>0</td>\n",
       "      <td>0.0</td>\n",
       "    </tr>\n",
       "    <tr>\n",
       "      <th>PurposeContinent</th>\n",
       "      <td>0</td>\n",
       "      <td>0.0</td>\n",
       "    </tr>\n",
       "    <tr>\n",
       "      <th>ActivityContinent</th>\n",
       "      <td>0</td>\n",
       "      <td>0.0</td>\n",
       "    </tr>\n",
       "    <tr>\n",
       "      <th>TouristsCountry</th>\n",
       "      <td>0</td>\n",
       "      <td>0.0</td>\n",
       "    </tr>\n",
       "    <tr>\n",
       "      <th>IsFullTour</th>\n",
       "      <td>0</td>\n",
       "      <td>0.0</td>\n",
       "    </tr>\n",
       "    <tr>\n",
       "      <th>age_group</th>\n",
       "      <td>0</td>\n",
       "      <td>0.0</td>\n",
       "    </tr>\n",
       "    <tr>\n",
       "      <th>cost_category</th>\n",
       "      <td>0</td>\n",
       "      <td>0.0</td>\n",
       "    </tr>\n",
       "    <tr>\n",
       "      <th>travel_with</th>\n",
       "      <td>0</td>\n",
       "      <td>0.0</td>\n",
       "    </tr>\n",
       "    <tr>\n",
       "      <th>total_female</th>\n",
       "      <td>0</td>\n",
       "      <td>0.0</td>\n",
       "    </tr>\n",
       "    <tr>\n",
       "      <th>total_male</th>\n",
       "      <td>0</td>\n",
       "      <td>0.0</td>\n",
       "    </tr>\n",
       "    <tr>\n",
       "      <th>purpose</th>\n",
       "      <td>0</td>\n",
       "      <td>0.0</td>\n",
       "    </tr>\n",
       "    <tr>\n",
       "      <th>main_activity</th>\n",
       "      <td>0</td>\n",
       "      <td>0.0</td>\n",
       "    </tr>\n",
       "    <tr>\n",
       "      <th>info_source</th>\n",
       "      <td>0</td>\n",
       "      <td>0.0</td>\n",
       "    </tr>\n",
       "    <tr>\n",
       "      <th>tour_arrangement</th>\n",
       "      <td>0</td>\n",
       "      <td>0.0</td>\n",
       "    </tr>\n",
       "    <tr>\n",
       "      <th>package_transport_int</th>\n",
       "      <td>0</td>\n",
       "      <td>0.0</td>\n",
       "    </tr>\n",
       "    <tr>\n",
       "      <th>package_accomodation</th>\n",
       "      <td>0</td>\n",
       "      <td>0.0</td>\n",
       "    </tr>\n",
       "    <tr>\n",
       "      <th>package_food</th>\n",
       "      <td>0</td>\n",
       "      <td>0.0</td>\n",
       "    </tr>\n",
       "    <tr>\n",
       "      <th>package_transport_tz</th>\n",
       "      <td>0</td>\n",
       "      <td>0.0</td>\n",
       "    </tr>\n",
       "    <tr>\n",
       "      <th>package_sightseeing</th>\n",
       "      <td>0</td>\n",
       "      <td>0.0</td>\n",
       "    </tr>\n",
       "    <tr>\n",
       "      <th>package_guided_tour</th>\n",
       "      <td>0</td>\n",
       "      <td>0.0</td>\n",
       "    </tr>\n",
       "    <tr>\n",
       "      <th>package_insurance</th>\n",
       "      <td>0</td>\n",
       "      <td>0.0</td>\n",
       "    </tr>\n",
       "    <tr>\n",
       "      <th>night_mainland</th>\n",
       "      <td>0</td>\n",
       "      <td>0.0</td>\n",
       "    </tr>\n",
       "    <tr>\n",
       "      <th>night_zanzibar</th>\n",
       "      <td>0</td>\n",
       "      <td>0.0</td>\n",
       "    </tr>\n",
       "    <tr>\n",
       "      <th>first_trip_tz</th>\n",
       "      <td>0</td>\n",
       "      <td>0.0</td>\n",
       "    </tr>\n",
       "    <tr>\n",
       "      <th>InfoContinent</th>\n",
       "      <td>0</td>\n",
       "      <td>0.0</td>\n",
       "    </tr>\n",
       "  </tbody>\n",
       "</table>\n",
       "</div>"
      ],
      "text/plain": [
       "                       Total    %\n",
       "TotalTourists              8  0.0\n",
       "TouristsCosts              0  0.0\n",
       "NightsSTR                  0  0.0\n",
       "TouristsSTR                0  0.0\n",
       "CountryCosts               0  0.0\n",
       "ContinentsCosts            0  0.0\n",
       "AgesCosts                  0  0.0\n",
       "PurposeCosts               0  0.0\n",
       "ActivityCosts              0  0.0\n",
       "InfoCosts                  0  0.0\n",
       "country                    0  0.0\n",
       "Continent                  0  0.0\n",
       "AgesCountry                0  0.0\n",
       "PurposeCountry             0  0.0\n",
       "ActivityCountry            0  0.0\n",
       "InfoCountry                0  0.0\n",
       "TouristsContinent          0  0.0\n",
       "AgesContinent              0  0.0\n",
       "PurposeContinent           0  0.0\n",
       "ActivityContinent          0  0.0\n",
       "TouristsCountry            0  0.0\n",
       "IsFullTour                 0  0.0\n",
       "age_group                  0  0.0\n",
       "cost_category              0  0.0\n",
       "travel_with                0  0.0\n",
       "total_female               0  0.0\n",
       "total_male                 0  0.0\n",
       "purpose                    0  0.0\n",
       "main_activity              0  0.0\n",
       "info_source                0  0.0\n",
       "tour_arrangement           0  0.0\n",
       "package_transport_int      0  0.0\n",
       "package_accomodation       0  0.0\n",
       "package_food               0  0.0\n",
       "package_transport_tz       0  0.0\n",
       "package_sightseeing        0  0.0\n",
       "package_guided_tour        0  0.0\n",
       "package_insurance          0  0.0\n",
       "night_mainland             0  0.0\n",
       "night_zanzibar             0  0.0\n",
       "first_trip_tz              0  0.0\n",
       "InfoContinent              0  0.0"
      ]
     },
     "execution_count": 85,
     "metadata": {},
     "output_type": "execute_result"
    }
   ],
   "source": [
    "#missing data percentage (Training)\n",
    "total = train_df.isnull().sum().sort_values(ascending=False)\n",
    "percent_1 = train_df.isnull().sum()/train_df.isnull().count()*100\n",
    "percent_2 = (round(percent_1, 1)).sort_values(ascending=False)\n",
    "missing_data = pd.concat([total, percent_2], axis=1, keys=['Total', '%'])\n",
    "missing_data"
   ]
  },
  {
   "cell_type": "code",
   "execution_count": 86,
   "id": "69356523",
   "metadata": {
    "scrolled": true
   },
   "outputs": [
    {
     "data": {
      "text/html": [
       "<div>\n",
       "<style scoped>\n",
       "    .dataframe tbody tr th:only-of-type {\n",
       "        vertical-align: middle;\n",
       "    }\n",
       "\n",
       "    .dataframe tbody tr th {\n",
       "        vertical-align: top;\n",
       "    }\n",
       "\n",
       "    .dataframe thead th {\n",
       "        text-align: right;\n",
       "    }\n",
       "</style>\n",
       "<table border=\"1\" class=\"dataframe\">\n",
       "  <thead>\n",
       "    <tr style=\"text-align: right;\">\n",
       "      <th></th>\n",
       "      <th>Total</th>\n",
       "      <th>%</th>\n",
       "    </tr>\n",
       "  </thead>\n",
       "  <tbody>\n",
       "    <tr>\n",
       "      <th>TotalTourists</th>\n",
       "      <td>3</td>\n",
       "      <td>0.0</td>\n",
       "    </tr>\n",
       "    <tr>\n",
       "      <th>country</th>\n",
       "      <td>0</td>\n",
       "      <td>0.0</td>\n",
       "    </tr>\n",
       "    <tr>\n",
       "      <th>CountryCosts</th>\n",
       "      <td>0</td>\n",
       "      <td>0.0</td>\n",
       "    </tr>\n",
       "    <tr>\n",
       "      <th>AgesCosts</th>\n",
       "      <td>0</td>\n",
       "      <td>0.0</td>\n",
       "    </tr>\n",
       "    <tr>\n",
       "      <th>PurposeCosts</th>\n",
       "      <td>0</td>\n",
       "      <td>0.0</td>\n",
       "    </tr>\n",
       "    <tr>\n",
       "      <th>ActivityCosts</th>\n",
       "      <td>0</td>\n",
       "      <td>0.0</td>\n",
       "    </tr>\n",
       "    <tr>\n",
       "      <th>InfoCosts</th>\n",
       "      <td>0</td>\n",
       "      <td>0.0</td>\n",
       "    </tr>\n",
       "    <tr>\n",
       "      <th>TouristsCosts</th>\n",
       "      <td>0</td>\n",
       "      <td>0.0</td>\n",
       "    </tr>\n",
       "    <tr>\n",
       "      <th>TouristsCountry</th>\n",
       "      <td>0</td>\n",
       "      <td>0.0</td>\n",
       "    </tr>\n",
       "    <tr>\n",
       "      <th>AgesCountry</th>\n",
       "      <td>0</td>\n",
       "      <td>0.0</td>\n",
       "    </tr>\n",
       "    <tr>\n",
       "      <th>PurposeCountry</th>\n",
       "      <td>0</td>\n",
       "      <td>0.0</td>\n",
       "    </tr>\n",
       "    <tr>\n",
       "      <th>ActivityCountry</th>\n",
       "      <td>0</td>\n",
       "      <td>0.0</td>\n",
       "    </tr>\n",
       "    <tr>\n",
       "      <th>InfoCountry</th>\n",
       "      <td>0</td>\n",
       "      <td>0.0</td>\n",
       "    </tr>\n",
       "    <tr>\n",
       "      <th>TouristsContinent</th>\n",
       "      <td>0</td>\n",
       "      <td>0.0</td>\n",
       "    </tr>\n",
       "    <tr>\n",
       "      <th>AgesContinent</th>\n",
       "      <td>0</td>\n",
       "      <td>0.0</td>\n",
       "    </tr>\n",
       "    <tr>\n",
       "      <th>PurposeContinent</th>\n",
       "      <td>0</td>\n",
       "      <td>0.0</td>\n",
       "    </tr>\n",
       "    <tr>\n",
       "      <th>ActivityContinent</th>\n",
       "      <td>0</td>\n",
       "      <td>0.0</td>\n",
       "    </tr>\n",
       "    <tr>\n",
       "      <th>InfoContinent</th>\n",
       "      <td>0</td>\n",
       "      <td>0.0</td>\n",
       "    </tr>\n",
       "    <tr>\n",
       "      <th>0</th>\n",
       "      <td>0</td>\n",
       "      <td>0.0</td>\n",
       "    </tr>\n",
       "    <tr>\n",
       "      <th>1</th>\n",
       "      <td>0</td>\n",
       "      <td>0.0</td>\n",
       "    </tr>\n",
       "    <tr>\n",
       "      <th>2</th>\n",
       "      <td>0</td>\n",
       "      <td>0.0</td>\n",
       "    </tr>\n",
       "    <tr>\n",
       "      <th>3</th>\n",
       "      <td>0</td>\n",
       "      <td>0.0</td>\n",
       "    </tr>\n",
       "    <tr>\n",
       "      <th>4</th>\n",
       "      <td>0</td>\n",
       "      <td>0.0</td>\n",
       "    </tr>\n",
       "    <tr>\n",
       "      <th>ContinentsCosts</th>\n",
       "      <td>0</td>\n",
       "      <td>0.0</td>\n",
       "    </tr>\n",
       "    <tr>\n",
       "      <th>TouristsSTR</th>\n",
       "      <td>0</td>\n",
       "      <td>0.0</td>\n",
       "    </tr>\n",
       "    <tr>\n",
       "      <th>age_group</th>\n",
       "      <td>0</td>\n",
       "      <td>0.0</td>\n",
       "    </tr>\n",
       "    <tr>\n",
       "      <th>NightsSTR</th>\n",
       "      <td>0</td>\n",
       "      <td>0.0</td>\n",
       "    </tr>\n",
       "    <tr>\n",
       "      <th>travel_with</th>\n",
       "      <td>0</td>\n",
       "      <td>0.0</td>\n",
       "    </tr>\n",
       "    <tr>\n",
       "      <th>total_female</th>\n",
       "      <td>0</td>\n",
       "      <td>0.0</td>\n",
       "    </tr>\n",
       "    <tr>\n",
       "      <th>total_male</th>\n",
       "      <td>0</td>\n",
       "      <td>0.0</td>\n",
       "    </tr>\n",
       "    <tr>\n",
       "      <th>purpose</th>\n",
       "      <td>0</td>\n",
       "      <td>0.0</td>\n",
       "    </tr>\n",
       "    <tr>\n",
       "      <th>main_activity</th>\n",
       "      <td>0</td>\n",
       "      <td>0.0</td>\n",
       "    </tr>\n",
       "    <tr>\n",
       "      <th>info_source</th>\n",
       "      <td>0</td>\n",
       "      <td>0.0</td>\n",
       "    </tr>\n",
       "    <tr>\n",
       "      <th>tour_arrangement</th>\n",
       "      <td>0</td>\n",
       "      <td>0.0</td>\n",
       "    </tr>\n",
       "    <tr>\n",
       "      <th>package_transport_int</th>\n",
       "      <td>0</td>\n",
       "      <td>0.0</td>\n",
       "    </tr>\n",
       "    <tr>\n",
       "      <th>package_accomodation</th>\n",
       "      <td>0</td>\n",
       "      <td>0.0</td>\n",
       "    </tr>\n",
       "    <tr>\n",
       "      <th>package_food</th>\n",
       "      <td>0</td>\n",
       "      <td>0.0</td>\n",
       "    </tr>\n",
       "    <tr>\n",
       "      <th>package_transport_tz</th>\n",
       "      <td>0</td>\n",
       "      <td>0.0</td>\n",
       "    </tr>\n",
       "    <tr>\n",
       "      <th>package_sightseeing</th>\n",
       "      <td>0</td>\n",
       "      <td>0.0</td>\n",
       "    </tr>\n",
       "    <tr>\n",
       "      <th>package_guided_tour</th>\n",
       "      <td>0</td>\n",
       "      <td>0.0</td>\n",
       "    </tr>\n",
       "    <tr>\n",
       "      <th>package_insurance</th>\n",
       "      <td>0</td>\n",
       "      <td>0.0</td>\n",
       "    </tr>\n",
       "    <tr>\n",
       "      <th>night_mainland</th>\n",
       "      <td>0</td>\n",
       "      <td>0.0</td>\n",
       "    </tr>\n",
       "    <tr>\n",
       "      <th>night_zanzibar</th>\n",
       "      <td>0</td>\n",
       "      <td>0.0</td>\n",
       "    </tr>\n",
       "    <tr>\n",
       "      <th>first_trip_tz</th>\n",
       "      <td>0</td>\n",
       "      <td>0.0</td>\n",
       "    </tr>\n",
       "    <tr>\n",
       "      <th>IsFullTour</th>\n",
       "      <td>0</td>\n",
       "      <td>0.0</td>\n",
       "    </tr>\n",
       "    <tr>\n",
       "      <th>Continent</th>\n",
       "      <td>0</td>\n",
       "      <td>0.0</td>\n",
       "    </tr>\n",
       "    <tr>\n",
       "      <th>5</th>\n",
       "      <td>0</td>\n",
       "      <td>0.0</td>\n",
       "    </tr>\n",
       "  </tbody>\n",
       "</table>\n",
       "</div>"
      ],
      "text/plain": [
       "                       Total    %\n",
       "TotalTourists              3  0.0\n",
       "country                    0  0.0\n",
       "CountryCosts               0  0.0\n",
       "AgesCosts                  0  0.0\n",
       "PurposeCosts               0  0.0\n",
       "ActivityCosts              0  0.0\n",
       "InfoCosts                  0  0.0\n",
       "TouristsCosts              0  0.0\n",
       "TouristsCountry            0  0.0\n",
       "AgesCountry                0  0.0\n",
       "PurposeCountry             0  0.0\n",
       "ActivityCountry            0  0.0\n",
       "InfoCountry                0  0.0\n",
       "TouristsContinent          0  0.0\n",
       "AgesContinent              0  0.0\n",
       "PurposeContinent           0  0.0\n",
       "ActivityContinent          0  0.0\n",
       "InfoContinent              0  0.0\n",
       "0                          0  0.0\n",
       "1                          0  0.0\n",
       "2                          0  0.0\n",
       "3                          0  0.0\n",
       "4                          0  0.0\n",
       "ContinentsCosts            0  0.0\n",
       "TouristsSTR                0  0.0\n",
       "age_group                  0  0.0\n",
       "NightsSTR                  0  0.0\n",
       "travel_with                0  0.0\n",
       "total_female               0  0.0\n",
       "total_male                 0  0.0\n",
       "purpose                    0  0.0\n",
       "main_activity              0  0.0\n",
       "info_source                0  0.0\n",
       "tour_arrangement           0  0.0\n",
       "package_transport_int      0  0.0\n",
       "package_accomodation       0  0.0\n",
       "package_food               0  0.0\n",
       "package_transport_tz       0  0.0\n",
       "package_sightseeing        0  0.0\n",
       "package_guided_tour        0  0.0\n",
       "package_insurance          0  0.0\n",
       "night_mainland             0  0.0\n",
       "night_zanzibar             0  0.0\n",
       "first_trip_tz              0  0.0\n",
       "IsFullTour                 0  0.0\n",
       "Continent                  0  0.0\n",
       "5                          0  0.0"
      ]
     },
     "execution_count": 86,
     "metadata": {},
     "output_type": "execute_result"
    }
   ],
   "source": [
    "#missing data percentage (Testing)\n",
    "total = test_df.isnull().sum().sort_values(ascending=False)\n",
    "percent_1 = test_df.isnull().sum()/test_df.isnull().count()*100\n",
    "percent_2 = (round(percent_1, 1)).sort_values(ascending=False)\n",
    "missing_data = pd.concat([total, percent_2], axis=1, keys=['Total', '%'])\n",
    "missing_data"
   ]
  },
  {
   "cell_type": "code",
   "execution_count": 131,
   "id": "0669f6cc",
   "metadata": {},
   "outputs": [],
   "source": [
    "for f in ['total_male','total_female']:\n",
    "    df = pd.concat([train_df,test_df])\n",
    "    median = df[f].median()\n",
    "    for dataset in (train_df,test_df):\n",
    "        dataset[f] = dataset[f].fillna(median) "
   ]
  },
  {
   "cell_type": "code",
   "execution_count": 132,
   "id": "0537063a",
   "metadata": {},
   "outputs": [],
   "source": [
    "for dataset in (train_df,test_df):\n",
    "    for i in range(0,dataset.shape[0]):\n",
    "        if ((dataset['total_male'][i]+dataset['total_female'][i]) == 1.0) and \\\n",
    "            (pd.isnull(dataset['travel_with'][i])):\n",
    "            dataset['travel_with'][i] = 'Alone'\n",
    "        elif ((dataset['total_male'][i]==1.0) and (dataset['total_female'][i]==1.0) and \\\n",
    "            (pd.isnull(dataset['travel_with'][i]))):\n",
    "            dataset['travel_with'][i] = 'Spouse'\n",
    "        \n",
    "\n",
    "#For other samples:\n",
    "for dataset in (train_df,test_df):\n",
    "    dataset['travel_with'] = dataset['travel_with'].fillna('Friends/Relatives') "
   ]
  },
  {
   "cell_type": "code",
   "execution_count": 133,
   "id": "f8e2e517",
   "metadata": {},
   "outputs": [],
   "source": [
    "df = pd.concat([train_df,test_df])\n",
    "mode = df['CountryCosts'].mode()\n",
    "for feat in feats:\n",
    "    train_df['CountryCosts'] = train_df['CountryCosts'].fillna(mode[0])\n",
    "    test_df['CountryCosts'] = test_df['CountryCosts'].fillna(mode[0])"
   ]
  },
  {
   "cell_type": "markdown",
   "id": "082b16f4",
   "metadata": {},
   "source": [
    "# Outliers"
   ]
  },
  {
   "cell_type": "code",
   "execution_count": 134,
   "id": "e30039f8",
   "metadata": {},
   "outputs": [],
   "source": [
    "for dataset in (train_df,test_df):\n",
    "    for i in range(0,dataset.shape[0]):\n",
    "        if (dataset['night_mainland'][i] > 100):\n",
    "            dataset['night_mainland'][i] = 2\n",
    "            dataset['night_zanzibar'][i] = 0\n",
    "        elif (dataset['night_zanzibar'][i] > 100):\n",
    "            dataset['night_zanzibar'][i] = 0\n",
    "            dataset['night_mainland'][i] = 2"
   ]
  },
  {
   "cell_type": "markdown",
   "id": "5c797fd7",
   "metadata": {},
   "source": [
    "# Encoding"
   ]
  },
  {
   "cell_type": "code",
   "execution_count": 135,
   "id": "4a726b21",
   "metadata": {},
   "outputs": [],
   "source": [
    "train_df['cost_category'] = train_df['cost_category'].map({'High Cost': 0,'Higher Cost': 1,'Highest Cost': 2, \n",
    "                                                           'Low Cost': 3,'Lower Cost': 4,'Normal Cost': 5})\n",
    "train_df['cost_category'] = (train_df['cost_category']).astype(int)\n",
    "\n",
    "feats = ['InfoCosts','ActivityCosts','PurposeCosts','AgesCosts','ContinentsCosts','CountryCosts']\n",
    "\n",
    "for dataset in (train_df,test_df):\n",
    "    for feat in feats:\n",
    "        dataset[feat] = dataset[feat].map({'High Cost': 0,'Higher Cost': 1,'Highest Cost': 2, \n",
    "                                             'Low Cost': 3,'Lower Cost': 4,'Normal Cost': 5})\n",
    "        dataset[feat] = (dataset[feat]).astype(int)"
   ]
  },
  {
   "cell_type": "code",
   "execution_count": 136,
   "id": "d78094ec",
   "metadata": {},
   "outputs": [
    {
     "name": "stdout",
     "output_type": "stream",
     "text": [
      "country\n",
      "age_group\n",
      "travel_with\n",
      "purpose\n",
      "main_activity\n",
      "info_source\n",
      "tour_arrangement\n",
      "package_transport_int\n",
      "package_accomodation\n",
      "package_food\n",
      "package_transport_tz\n",
      "package_sightseeing\n",
      "package_guided_tour\n",
      "package_insurance\n",
      "first_trip_tz\n",
      "IsFullTour\n",
      "Continent\n",
      "NightsSTR\n",
      "TouristsSTR\n",
      "AgesCountry\n",
      "PurposeCountry\n",
      "ActivityCountry\n",
      "InfoCountry\n",
      "AgesContinent\n",
      "PurposeContinent\n",
      "ActivityContinent\n",
      "InfoContinent\n"
     ]
    }
   ],
   "source": [
    "attributes = list(test_df.select_dtypes(include=['object', 'boolean']).columns)\n",
    "       \n",
    "def label_enc(train_df, test_df, features):\n",
    "    lbl_enc = LabelEncoder()\n",
    "    full_data = pd.concat(\n",
    "        [train_df[features], test_df[features]],\n",
    "        axis=0\n",
    "    )\n",
    "    \n",
    "    for col in (features):\n",
    "        print(col)\n",
    "        lbl_enc.fit(full_data[col].values)\n",
    "        train_df[col] = lbl_enc.transform(train_df[col])\n",
    "        test_df[col] = lbl_enc.transform(test_df[col])\n",
    "            \n",
    "    return train_df, test_df\n",
    "\n",
    "train_df, test_df = label_enc(train_df,test_df,attributes)"
   ]
  },
  {
   "cell_type": "markdown",
   "id": "e52efdb8",
   "metadata": {},
   "source": [
    "# Modeling"
   ]
  },
  {
   "cell_type": "code",
   "execution_count": 137,
   "id": "7aa1e8e9",
   "metadata": {},
   "outputs": [],
   "source": [
    "params = {'n_estimators': 88, 'reg_lambda': 0.6375402393296572, \n",
    "          'colsample_bytree': 0.48426695097808015, 'num_leaves': 38, \n",
    "          'subsample': 0.6437900944929755, 'min_child_samples': 185, \n",
    "          'max_depth': 5}\n",
    "lgbm = LGBMClassifier(**params,random_state=42)"
   ]
  },
  {
   "cell_type": "code",
   "execution_count": 138,
   "id": "935e1a08",
   "metadata": {},
   "outputs": [
    {
     "name": "stdout",
     "output_type": "stream",
     "text": [
      "Cross Validation Scores are [1.07622331 1.0804397  1.07369653]\n",
      "Average Cross Validation score :1.0767865153945586\n",
      "Standard Deviation Cross Validation score :0.002781543426667736\n"
     ]
    }
   ],
   "source": [
    "X = train_df.drop('cost_category',axis=1)\n",
    "y = train_df['cost_category'].copy()\n",
    "skf=StratifiedKFold(n_splits=3)\n",
    "score=cross_val_score(lgbm,X,y,cv=skf, scoring='neg_log_loss')\n",
    "print(\"Cross Validation Scores are {}\".format(-score))\n",
    "print(\"Average Cross Validation score :{}\".format((-score).mean()))\n",
    "print(\"Standard Deviation Cross Validation score :{}\".format((-score).std()))\n",
    "\n",
    "#Best Score Leaderboard: 1.0549\n",
    "# Cross Validation Scores are [1.07622331 1.0804397  1.07369653]\n",
    "# Average Cross Validation score :1.0767865153945586\n",
    "# Standard Deviation Cross Validation score :0.002781543426667736"
   ]
  },
  {
   "cell_type": "markdown",
   "id": "fbd2cc4e",
   "metadata": {},
   "source": [
    "## Show the Features Importances "
   ]
  },
  {
   "cell_type": "code",
   "execution_count": 139,
   "id": "f07c704b",
   "metadata": {},
   "outputs": [
    {
     "data": {
      "image/png": "[encoded data removed]",
      "text/plain": [
       "<Figure size 2880x1440 with 1 Axes>"
      ]
     },
     "metadata": {
      "needs_background": "light"
     },
     "output_type": "display_data"
    }
   ],
   "source": [
    "lgbm.fit(X,y)\n",
    "plotImp(lgbm,X)"
   ]
  },
  {
   "cell_type": "markdown",
   "id": "6c2d790d",
   "metadata": {},
   "source": [
    "## Make the Submission File "
   ]
  },
  {
   "cell_type": "code",
   "execution_count": 140,
   "id": "ec1ed60e",
   "metadata": {},
   "outputs": [],
   "source": [
    "lgbm.fit(X,y)\n",
    "test_df[['0','1','2','3','4','5']] = lgbm.predict_proba(test_df)\n",
    "submission = pd.DataFrame({\"ID\": ID ,\"High Cost\": test_df['0'],\"Higher Cost\": test_df['1'],\"Highest Cost\": test_df['2'],\"Low Cost\": test_df['3'],\"Lower Cost\": test_df['4'],\"Normal Cost\": test_df['5']})\n",
    "submission.to_csv('Submission.csv',index=False)"
   ]
  }
 ],
 "metadata": {
  "kernelspec": {
   "display_name": "Python 3",
   "language": "python",
   "name": "python3"
  },
  "language_info": {
   "codemirror_mode": {
    "name": "ipython",
    "version": 3
   },
   "file_extension": ".py",
   "mimetype": "text/x-python",
   "name": "python",
   "nbconvert_exporter": "python",
   "pygments_lexer": "ipython3",
   "version": "3.8.8"
  }
 },
 "nbformat": 4,
 "nbformat_minor": 5
}
